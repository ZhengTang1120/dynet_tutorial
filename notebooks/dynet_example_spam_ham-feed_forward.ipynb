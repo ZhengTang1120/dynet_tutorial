{
 "cells": [
  {
   "cell_type": "code",
   "execution_count": 1,
   "metadata": {
    "collapsed": true
   },
   "outputs": [],
   "source": [
    "import numpy as np\n",
    "import dynet_config\n",
    "dynet_config.set(\n",
    "    mem=2048,          # can probably get away with 1024\n",
    "    autobatch=True,    # utilize autobatching\n",
    "    random_seed=1978   # simply for reproducibility here\n",
    ")\n",
    "import dynet as dy"
   ]
  },
  {
   "cell_type": "markdown",
   "metadata": {},
   "source": [
    "# `dyNet` example: `spam` v. `ham`"
   ]
  },
  {
   "cell_type": "code",
   "execution_count": 2,
   "metadata": {},
   "outputs": [
    {
     "data": {
      "text/plain": [
       "2.0"
      ]
     },
     "execution_count": 2,
     "metadata": {},
     "output_type": "execute_result"
    }
   ],
   "source": [
    "dy.__version__"
   ]
  },
  {
   "cell_type": "markdown",
   "metadata": {},
   "source": [
    "## import features"
   ]
  },
  {
   "cell_type": "code",
   "execution_count": 3,
   "metadata": {
    "collapsed": true
   },
   "outputs": [],
   "source": [
    "import sys\n",
    "sys.path.append(\"..\")\n",
    "import utils as u"
   ]
  },
  {
   "cell_type": "code",
   "execution_count": 4,
   "metadata": {
    "collapsed": true
   },
   "outputs": [],
   "source": [
    "# change this string to match the path on your computer\n",
    "path_to_root = \"/Users/mcapizzi/Github/dynet_tutorial/\""
   ]
  },
  {
   "cell_type": "code",
   "execution_count": 5,
   "metadata": {},
   "outputs": [
    {
     "name": "stdout",
     "output_type": "stream",
     "text": [
      "loading training data\n",
      "loading test data\n"
     ]
    }
   ],
   "source": [
    "trainX, trainY, testX, testY = u.import_data(path_to_root)"
   ]
  },
  {
   "cell_type": "code",
   "execution_count": 6,
   "metadata": {},
   "outputs": [
    {
     "data": {
      "text/plain": [
       "((953, 2955), (953,))"
      ]
     },
     "execution_count": 6,
     "metadata": {},
     "output_type": "execute_result"
    }
   ],
   "source": [
    "trainX.shape, trainY.shape"
   ]
  },
  {
   "cell_type": "code",
   "execution_count": 7,
   "metadata": {},
   "outputs": [
    {
     "data": {
      "text/plain": [
       "((105, 2955), (105,))"
      ]
     },
     "execution_count": 7,
     "metadata": {},
     "output_type": "execute_result"
    }
   ],
   "source": [
    "testX.shape, testY.shape"
   ]
  },
  {
   "cell_type": "markdown",
   "metadata": {},
   "source": [
    "The labels are either `1` or `0` where `1=Spam` and `0=Ham`"
   ]
  },
  {
   "cell_type": "code",
   "execution_count": 8,
   "metadata": {},
   "outputs": [
    {
     "data": {
      "text/plain": [
       "array([1, 0, 0, 1, 0, 0, 0, 1, 1, 1, 1, 1, 1, 1, 0, 0, 1, 1, 0, 0, 0, 0, 0,\n",
       "       1, 0, 1, 0, 0, 0, 1, 0, 0, 0, 0, 0, 1, 0, 0, 0, 1, 0, 1, 0, 1, 0, 1,\n",
       "       0, 0, 1, 0, 1, 1, 1, 1, 0, 0, 0, 1, 1, 1, 1, 1, 0, 1, 0, 1, 1, 1, 1,\n",
       "       0, 1, 0, 1, 0, 1, 1, 1, 0, 1, 1, 1, 0, 0, 1, 0, 1, 1, 0, 1, 1, 0, 0,\n",
       "       1, 0, 1, 1, 1, 1, 1, 0, 1, 1, 0, 0, 1])"
      ]
     },
     "execution_count": 8,
     "metadata": {},
     "output_type": "execute_result"
    }
   ],
   "source": [
    "testY"
   ]
  },
  {
   "cell_type": "markdown",
   "metadata": {},
   "source": [
    "The data is a `matrix` where each `row` is a document, and each `column` is a \"transformed\" count of how many times each word in the vocabulary appeared in that document."
   ]
  },
  {
   "cell_type": "code",
   "execution_count": 9,
   "metadata": {},
   "outputs": [
    {
     "data": {
      "text/plain": [
       "(array([   0,   77,   93,  114,  117,  151,  229,  233,  239,  260,  301,\n",
       "         303,  316,  343,  379,  412,  441,  466,  553,  562,  574,  612,\n",
       "         622,  627,  679,  870,  962,  964, 1002, 1060, 1083, 1094, 1116,\n",
       "        1128, 1137, 1139, 1204, 1224, 1258, 1261, 1290, 1365, 1366, 1384,\n",
       "        1400, 1408, 1475, 1478, 1531, 1548, 1625, 1643, 1685, 1748, 1751,\n",
       "        1780, 1794, 1803, 1867, 1919, 1944, 2032, 2040, 2120, 2146, 2153,\n",
       "        2234, 2269, 2337, 2345, 2361, 2366, 2384, 2421, 2427, 2450, 2460,\n",
       "        2487, 2496, 2526, 2547, 2552, 2575, 2599, 2621, 2627, 2670, 2682,\n",
       "        2690, 2765, 2790, 2792, 2812, 2855, 2887, 2921, 2925]),)"
      ]
     },
     "execution_count": 9,
     "metadata": {},
     "output_type": "execute_result"
    }
   ],
   "source": [
    "np.nonzero(testX[23])"
   ]
  },
  {
   "cell_type": "code",
   "execution_count": 10,
   "metadata": {},
   "outputs": [
    {
     "data": {
      "text/plain": [
       "0.00042789901583226359"
      ]
     },
     "execution_count": 10,
     "metadata": {},
     "output_type": "execute_result"
    }
   ],
   "source": [
    "trainX[23][77]"
   ]
  },
  {
   "cell_type": "markdown",
   "metadata": {},
   "source": [
    "## build architecture\n",
    "all images borrowed from here: http://u.cs.biu.ac.il/~yogo/nnlp.pdf (now a book!)"
   ]
  },
  {
   "cell_type": "markdown",
   "metadata": {},
   "source": [
    "![goldberg_nn](images/goldberg_ff.png)"
   ]
  },
  {
   "cell_type": "markdown",
   "metadata": {},
   "source": [
    "![goldberg_ff_math](images/goldberg_ff_math.png)"
   ]
  },
  {
   "cell_type": "markdown",
   "metadata": {},
   "source": [
    "### initialize empty model\n",
    "\n",
    "See http://dynet.readthedocs.io/en/latest/python_ref.html#parametercollection\n",
    "\n",
    "The first thing to be done is initialize the `ParameterCollection()` which will house all the parameters that will be updated during training."
   ]
  },
  {
   "cell_type": "code",
   "execution_count": 11,
   "metadata": {},
   "outputs": [
    {
     "data": {
      "text/plain": [
       "<_dynet.ParameterCollection at 0x195bbc540>"
      ]
     },
     "execution_count": 11,
     "metadata": {},
     "output_type": "execute_result"
    }
   ],
   "source": [
    "feed_forward_model = dy.ParameterCollection()   # used to be called dy.Model()\n",
    "feed_forward_model"
   ]
  },
  {
   "cell_type": "markdown",
   "metadata": {},
   "source": [
    "### dimensions\n",
    "\n",
    "You have a decision on what size you want the `hidden` layer to be.\n",
    "\n",
    "![goldberg_math_simple](images/goldberg_ff_math_simple.png)"
   ]
  },
  {
   "cell_type": "code",
   "execution_count": 12,
   "metadata": {
    "collapsed": true
   },
   "outputs": [],
   "source": [
    "# size of input (2955)\n",
    "input_size = trainX.shape[1]\n",
    "################\n",
    "# HYPERPARAMETER\n",
    "################\n",
    "# size of hidden layer\n",
    "hidden_size = 200"
   ]
  },
  {
   "cell_type": "markdown",
   "metadata": {},
   "source": [
    "#### paramater `initializer`\n",
    "See http://dynet.readthedocs.io/en/latest/python_ref.html#parameters-initializers\n",
    "\n",
    "Next we need to \"initialize\" the parameter values.  `GlorotInitializer` is a pretty standard approach *however* the `gain` parameter depends on the type of `activation` being used."
   ]
  },
  {
   "cell_type": "code",
   "execution_count": 13,
   "metadata": {
    "collapsed": true
   },
   "outputs": [],
   "source": [
    "################\n",
    "# HYPERPARAMETER\n",
    "################\n",
    "initializer = dy.GlorotInitializer(gain=4.0)"
   ]
  },
  {
   "cell_type": "markdown",
   "metadata": {},
   "source": [
    "You'll notice that the objects are `_dynet.Parameters` and *not* `expressions` until you \"wrap\" them with `dy.parameter()`"
   ]
  },
  {
   "cell_type": "code",
   "execution_count": 14,
   "metadata": {},
   "outputs": [
    {
     "data": {
      "text/plain": [
       "(_dynet.Parameters, _dynet.Expression)"
      ]
     },
     "execution_count": 14,
     "metadata": {},
     "output_type": "execute_result"
    }
   ],
   "source": [
    "# W_1 (input x hidden) as a Parameters object\n",
    "pW_1 = feed_forward_model.add_parameters(\n",
    "    (input_size, hidden_size),\n",
    "    init=initializer\n",
    ")\n",
    "type(pW_1), type(dy.parameter(pW_1))"
   ]
  },
  {
   "cell_type": "code",
   "execution_count": 15,
   "metadata": {},
   "outputs": [
    {
     "data": {
      "text/plain": [
       "(2955, 200)"
      ]
     },
     "execution_count": 15,
     "metadata": {},
     "output_type": "execute_result"
    }
   ],
   "source": [
    "# check the shape of the Expression\n",
    "dy.parameter(pW_1).npvalue().shape"
   ]
  },
  {
   "cell_type": "code",
   "execution_count": 16,
   "metadata": {},
   "outputs": [
    {
     "data": {
      "text/plain": [
       "(1, 200)"
      ]
     },
     "execution_count": 16,
     "metadata": {},
     "output_type": "execute_result"
    }
   ],
   "source": [
    "# b_1 (1 x hidden) as a Parameters object\n",
    "pb_1 = feed_forward_model.add_parameters(\n",
    "    (1, hidden_size),\n",
    "    init=initializer\n",
    ")\n",
    "# check the shape\n",
    "dy.parameter(pb_1).npvalue().shape"
   ]
  },
  {
   "cell_type": "code",
   "execution_count": 17,
   "metadata": {},
   "outputs": [
    {
     "data": {
      "text/plain": [
       "(200, 1)"
      ]
     },
     "execution_count": 17,
     "metadata": {},
     "output_type": "execute_result"
    }
   ],
   "source": [
    "# W_2 (hidden x output) as a Parameters object\n",
    "pW_2 = feed_forward_model.add_parameters(\n",
    "    (hidden_size, 1),\n",
    "    init=initializer\n",
    ")\n",
    "# check the shape\n",
    "dy.parameter(pW_2).npvalue().shape"
   ]
  },
  {
   "cell_type": "code",
   "execution_count": 18,
   "metadata": {},
   "outputs": [
    {
     "data": {
      "text/plain": [
       "(1, 1)"
      ]
     },
     "execution_count": 18,
     "metadata": {},
     "output_type": "execute_result"
    }
   ],
   "source": [
    "# b_2 (1 x output) as a Paramters object\n",
    "pb_2 = feed_forward_model.add_parameters(\n",
    "    (1, 1),\n",
    "    init=initializer\n",
    ")\n",
    "# check the shape\n",
    "dy.parameter(pb_2).npvalue().shape"
   ]
  },
  {
   "cell_type": "markdown",
   "metadata": {},
   "source": [
    "### forward operations\n",
    "![goldberg_math_simple](images/goldberg_ff_math_simple.png)\n",
    "\n",
    "The only real choice is the type of `activation`.  See here for your choices: http://dynet.readthedocs.io/en/latest/operations.html"
   ]
  },
  {
   "cell_type": "code",
   "execution_count": 19,
   "metadata": {
    "collapsed": true
   },
   "outputs": [],
   "source": [
    "def forward_pass(x):\n",
    "    \"\"\"\n",
    "    This function will wrap all the steps of the forward pass\n",
    "    :param x: the input\n",
    "    \"\"\"\n",
    "    # convert input to Expression (this step must happen here b/c of autobatching)\n",
    "    x = dy.inputTensor(x)\n",
    "    # convert Parameters to Expressions\n",
    "    W_1 = dy.parameter(pW_1)\n",
    "    b_1 = dy.parameter(pb_1)\n",
    "    W_2 = dy.parameter(pW_2)\n",
    "    b_2 = dy.parameter(pb_2)\n",
    "    # calculate the first hidden layer\n",
    "    hidden = x * W_1 + b_1          \n",
    "    ################\n",
    "    # HYPERPARAMETER\n",
    "    ################\n",
    "    # calculate the sigmoid activation  (or RELU, SELU, ELU, tanh, etc...)\n",
    "    hidden_activation = dy.logistic(hidden)    \n",
    "    # calculate the output layer\n",
    "    output = hidden_activation * W_2 + b_2\n",
    "    # return the sigmoid of the output\n",
    "    return dy.logistic(output)"
   ]
  },
  {
   "cell_type": "markdown",
   "metadata": {},
   "source": [
    "### training"
   ]
  },
  {
   "cell_type": "markdown",
   "metadata": {},
   "source": [
    "#### initializing a `trainer`\n",
    "See http://dynet.readthedocs.io/en/latest/python_ref.html#optimizers\n",
    "\n",
    "This decision is a big one.  It relates to what \"optimizer\" will be used to update the parameters.  Here I've chosen a *very simple* `trainer`, however the default `learning_rate` is almost never a good one."
   ]
  },
  {
   "cell_type": "code",
   "execution_count": 20,
   "metadata": {
    "collapsed": true
   },
   "outputs": [],
   "source": [
    "################\n",
    "# HYPERPARAMETER\n",
    "################\n",
    "trainer = dy.SimpleSGDTrainer(\n",
    "    m=feed_forward_model,\n",
    "    learning_rate=0.01\n",
    ")"
   ]
  },
  {
   "cell_type": "markdown",
   "metadata": {},
   "source": [
    "### autobatching\n",
    "See http://dynet.readthedocs.io/en/latest/minibatch.html#\n",
    "\n",
    "This is one of the real advantages of `dyNet`.  It's \"overkill\" for this example, but will become hugely valuable when training `recurrent neural networks` (`RNNs`)."
   ]
  },
  {
   "cell_type": "code",
   "execution_count": 21,
   "metadata": {
    "collapsed": true
   },
   "outputs": [],
   "source": [
    "import dynet_config\n",
    "dynet_config.set(\n",
    "    mem=2048,          # can probably get away with 1024\n",
    "    autobatch=True,    # utilize autobatching\n",
    "    random_seed=1978   # simply for reproducibility here\n",
    ")\n",
    "import dynet as dy"
   ]
  },
  {
   "cell_type": "markdown",
   "metadata": {},
   "source": [
    "#### one `epoch`\n",
    "\n",
    "Let's walk through *one* epoch (where our model sees all of our data *one* time).\n",
    "\n",
    "The most important step is `dy.renew_cg()` which starts off a \"clean\" computational graph.\n"
   ]
  },
  {
   "cell_type": "code",
   "execution_count": 22,
   "metadata": {
    "collapsed": true
   },
   "outputs": [],
   "source": [
    "# store original values of W_1\n",
    "original_W1 = dy.parameter(pW_1).npvalue()\n",
    "# begin a clean computational graph\n",
    "dy.renew_cg()\n",
    "# initialize list to capture individual losses\n",
    "losses = []"
   ]
  },
  {
   "cell_type": "markdown",
   "metadata": {},
   "source": [
    "`autobatching` allows us to feed each datapoint in one at a time, and `dyNet` will figure out how to \"optimize\" the operations.  Let's iterate through our training data."
   ]
  },
  {
   "cell_type": "code",
   "execution_count": 23,
   "metadata": {
    "collapsed": true
   },
   "outputs": [],
   "source": [
    "# iterate through the dataset\n",
    "for i in range(trainX.shape[0]):\n",
    "    # prepare input\n",
    "    x = np.expand_dims(trainX[i], axis=0)   # must make it a vector with dimensions (1 x voc_size)\n",
    "    # prepare output\n",
    "    y = dy.scalarInput(trainY[i])\n",
    "    # make a forward pass\n",
    "    pred = forward_pass(x)\n",
    "    # calculate loss for each example\n",
    "    loss = dy.binary_log_loss(pred, y) \n",
    "    losses.append(loss)"
   ]
  },
  {
   "cell_type": "markdown",
   "metadata": {},
   "source": [
    "Now let's accumulate the loss and backpropogate it."
   ]
  },
  {
   "cell_type": "code",
   "execution_count": 24,
   "metadata": {
    "collapsed": true
   },
   "outputs": [],
   "source": [
    "# get total loss for dataset\n",
    "total_loss = dy.esum(losses)\n",
    "# apply the calculations of the computational graph\n",
    "total_loss.forward()\n",
    "# calculate loss to backpropogate\n",
    "total_loss.backward()\n",
    "# update parameters with backpropogated error\n",
    "trainer.update()"
   ]
  },
  {
   "cell_type": "markdown",
   "metadata": {},
   "source": [
    "Let's make sure that our parameter `W_1` has been updated (e.g. it \"learned\" something)."
   ]
  },
  {
   "cell_type": "code",
   "execution_count": 25,
   "metadata": {},
   "outputs": [
    {
     "name": "stdout",
     "output_type": "stream",
     "text": [
      "change in W_1 parameter values: 0.0085962227416303\n"
     ]
    }
   ],
   "source": [
    "# confirm that parameters updated\n",
    "dy.renew_cg()\n",
    "print(\"change in W_1 parameter values: {}\".format(\n",
    "    np.sum(original_W1 - dy.parameter(pW_1).npvalue())\n",
    "))"
   ]
  },
  {
   "cell_type": "markdown",
   "metadata": {},
   "source": [
    "### testing"
   ]
  },
  {
   "cell_type": "markdown",
   "metadata": {},
   "source": [
    "#### make a single prediction\n",
    "\n",
    "Let's see how our model does on a single document.  The `output` can be understood as the probability the document is `Spam`."
   ]
  },
  {
   "cell_type": "code",
   "execution_count": 26,
   "metadata": {},
   "outputs": [
    {
     "name": "stdout",
     "output_type": "stream",
     "text": [
      "0.22279419004917145\n"
     ]
    }
   ],
   "source": [
    "pred = forward_pass(np.expand_dims(testX[0], axis=0))\n",
    "print(pred.value())"
   ]
  },
  {
   "cell_type": "markdown",
   "metadata": {},
   "source": [
    "#### get predictions on entire test set\n",
    "\n",
    "Let's look across the entire dataset."
   ]
  },
  {
   "cell_type": "code",
   "execution_count": 27,
   "metadata": {
    "collapsed": true
   },
   "outputs": [],
   "source": [
    "all_preds = []\n",
    "dy.renew_cg()\n",
    "for i in range(testX.shape[0]):\n",
    "    x = np.expand_dims(testX[i], axis=0)\n",
    "    pred = forward_pass(x)\n",
    "    all_preds.append(pred.value())\n",
    "original_preds = all_preds"
   ]
  },
  {
   "cell_type": "markdown",
   "metadata": {},
   "source": [
    "You'll notice that the output is pretty much the same for *all* documents.  Not suprising since the model only saw each document only once."
   ]
  },
  {
   "cell_type": "code",
   "execution_count": 28,
   "metadata": {},
   "outputs": [
    {
     "name": "stdout",
     "output_type": "stream",
     "text": [
      "[0.22279419004917145, 0.2220517247915268, 0.21854330599308014, 0.21699438989162445, 0.21766775846481323, 0.2211741805076599, 0.21808582544326782, 0.22006285190582275, 0.22520756721496582, 0.21847213804721832, 0.21758271753787994, 0.21939146518707275, 0.21823962032794952, 0.21894846856594086, 0.2203971892595291, 0.21989339590072632, 0.22444313764572144, 0.21918492019176483, 0.21857942640781403, 0.22095154225826263, 0.2194886952638626, 0.22478371858596802, 0.2183845043182373, 0.2170485556125641, 0.2178172916173935, 0.2212851345539093, 0.21958240866661072, 0.22060397267341614, 0.2196609079837799, 0.21758396923542023, 0.22042697668075562, 0.2242683470249176, 0.21868784725666046, 0.21646657586097717, 0.22147487103939056, 0.22021691501140594, 0.21872146427631378, 0.2183428853750229, 0.21924948692321777, 0.21871013939380646, 0.21926718950271606, 0.22107358276844025, 0.21798814833164215, 0.217025026679039, 0.21780286729335785, 0.21908578276634216, 0.22277837991714478, 0.21879737079143524, 0.21962200105190277, 0.22109924256801605, 0.21681419014930725, 0.2222231775522232, 0.22099678218364716, 0.2184416949748993, 0.2221885621547699, 0.2170073240995407, 0.22202174365520477, 0.2180922031402588, 0.22106397151947021, 0.219866082072258, 0.22024083137512207, 0.2202175259590149, 0.2204332798719406, 0.22536177933216095, 0.21993549168109894, 0.21892695128917694, 0.2180788367986679, 0.2186717987060547, 0.21614466607570648, 0.21743261814117432, 0.214528888463974, 0.2199496477842331, 0.22152598202228546, 0.21638332307338715, 0.214528888463974, 0.2188185155391693, 0.22367407381534576, 0.21821266412734985, 0.22006608545780182, 0.2205403596162796, 0.21446353197097778, 0.21689261496067047, 0.22021667659282684, 0.21830637753009796, 0.21986714005470276, 0.2156347632408142, 0.21573510766029358, 0.22141610085964203, 0.21825231611728668, 0.220254585146904, 0.22023947536945343, 0.2225939929485321, 0.22032137215137482, 0.21728534996509552, 0.2230677753686905, 0.2233593761920929, 0.220125213265419, 0.2242804616689682, 0.22119377553462982, 0.21658475697040558, 0.22160135209560394, 0.21915820240974426, 0.21998286247253418, 0.218320831656456, 0.2178833782672882]\n"
     ]
    }
   ],
   "source": [
    "print(original_preds)"
   ]
  },
  {
   "cell_type": "code",
   "execution_count": 29,
   "metadata": {
    "collapsed": true
   },
   "outputs": [],
   "source": [
    "def check_score(pred, true_y):\n",
    "    # convert pred to hard label\n",
    "    label = 1 if pred >= 0.5 else 0\n",
    "    # compare to true_y\n",
    "    return 1 if label == true_y else 0"
   ]
  },
  {
   "cell_type": "code",
   "execution_count": 30,
   "metadata": {
    "collapsed": true
   },
   "outputs": [],
   "source": [
    "def get_accuracy(list_of_scores):\n",
    "    return float(sum(list_of_scores) / len(list_of_scores))"
   ]
  },
  {
   "cell_type": "markdown",
   "metadata": {},
   "source": [
    "And since we predicted `0` for all documents, then our accuracy is simply matching the distribution of the data."
   ]
  },
  {
   "cell_type": "code",
   "execution_count": 31,
   "metadata": {},
   "outputs": [
    {
     "data": {
      "text/plain": [
       "0.4666666666666667"
      ]
     },
     "execution_count": 31,
     "metadata": {},
     "output_type": "execute_result"
    }
   ],
   "source": [
    "accuracy = get_accuracy([check_score(p, y) for p,y in zip(all_preds, list(testY))])\n",
    "accuracy"
   ]
  },
  {
   "cell_type": "markdown",
   "metadata": {},
   "source": [
    "### multiple epochs and minibatches"
   ]
  },
  {
   "cell_type": "markdown",
   "metadata": {},
   "source": [
    "We need to run the model through the data many, many more times before it can learn anything meaningful.  \n",
    "\n",
    "So we need to decide (1) how many `epochs` (times through the data), and (2) how many datapoints we want to show the model at once.  If `batch_size=len(data)` then we show the model *all* the data to the model at one time (and only one parameter update is made).  If `batch_size=1` then we only show the model one item at a time."
   ]
  },
  {
   "cell_type": "code",
   "execution_count": 32,
   "metadata": {},
   "outputs": [
    {
     "data": {
      "text/plain": [
       "8"
      ]
     },
     "execution_count": 32,
     "metadata": {},
     "output_type": "execute_result"
    }
   ],
   "source": [
    "################\n",
    "# HYPERPARAMETER\n",
    "################\n",
    "num_epochs = 1000\n",
    "################\n",
    "# HYPERPARAMETER\n",
    "################\n",
    "batch_size = 128\n",
    "################\n",
    "# HYPERPARAMETER\n",
    "################\n",
    "num_batches = int(np.ceil(trainX.shape[0] / batch_size))\n",
    "num_batches"
   ]
  },
  {
   "cell_type": "code",
   "execution_count": 33,
   "metadata": {
    "collapsed": true
   },
   "outputs": [],
   "source": [
    "# bookeeping\n",
    "original_W1 = dy.parameter(pW_1).npvalue()\n",
    "epoch_losses = []\n",
    "all_accuracies = []"
   ]
  },
  {
   "cell_type": "markdown",
   "metadata": {},
   "source": [
    "Below is code for iterating through multiple `epoch`s of the data."
   ]
  },
  {
   "cell_type": "code",
   "execution_count": 34,
   "metadata": {},
   "outputs": [
    {
     "name": "stdout",
     "output_type": "stream",
     "text": [
      "epoch 1\n",
      "epoch 101\n",
      "epoch 201\n",
      "epoch 301\n",
      "epoch 401\n",
      "epoch 501\n",
      "epoch 601\n",
      "epoch 701\n",
      "epoch 801\n",
      "epoch 901\n",
      "change in W_1 parameter values: 0.4954077935004477\n"
     ]
    }
   ],
   "source": [
    "# iterate through epochs\n",
    "for i in range(num_epochs):\n",
    "    epoch_loss = []\n",
    "    if i % 100 == 0:\n",
    "        print(\"epoch {}\".format(i+1))\n",
    "    # shuffle dataset\n",
    "    np.random.seed(i)\n",
    "    np.random.shuffle(trainX)\n",
    "    np.random.seed(i)           # make sure to reset seed again to keep labels and data together!\n",
    "    np.random.shuffle(trainY)\n",
    "    # iterate through batches\n",
    "    for j in range(num_batches):\n",
    "        # begin a clean computational graph *at beginning of each batch*\n",
    "        dy.renew_cg()\n",
    "        losses = []\n",
    "        # build the batch\n",
    "        batchX = trainX[j*batch_size:(j+1)*batch_size]\n",
    "        batchY = trainY[j*batch_size:(j+1)*batch_size]\n",
    "        # iterate through the batch\n",
    "        for k in range(batchX.shape[0]):\n",
    "            # prepare input\n",
    "            x = np.expand_dims(batchX[k], axis=0)\n",
    "            # prepare output\n",
    "            y = dy.scalarInput(batchY[k])\n",
    "            # make a forward pass\n",
    "            pred = forward_pass(x)\n",
    "            # calculate loss for each example\n",
    "            loss = dy.binary_log_loss(pred, y)  \n",
    "            losses.append(loss)\n",
    "        # get total loss for batch\n",
    "        total_loss = dy.esum(losses)\n",
    "        # applies the calculations of the computational graph\n",
    "        total_loss.forward()\n",
    "        # calculates loss to backpropogate\n",
    "        total_loss.backward()\n",
    "        # update parameters with backpropogated error\n",
    "        trainer.update()\n",
    "        # record batch loss\n",
    "        epoch_loss.append(total_loss.npvalue())\n",
    "    # record epoch loss\n",
    "    epoch_losses.append(np.sum(epoch_loss))\n",
    "    # check performance on test set\n",
    "    all_preds = []\n",
    "    dy.renew_cg()\n",
    "    for i in range(testX.shape[0]):\n",
    "        x = np.expand_dims(testX[i], axis=0)\n",
    "        pred = forward_pass(x)\n",
    "        all_preds.append(pred.value())\n",
    "    accuracy = get_accuracy([check_score(p, y) for p,y in zip(all_preds, list(testY))])\n",
    "    all_accuracies.append(accuracy)\n",
    "# confirm that parameters updated\n",
    "dy.renew_cg()\n",
    "print(\"change in W_1 parameter values: {}\".format(\n",
    "    np.sum(original_W1 - dy.parameter(pW_1).npvalue())\n",
    "))"
   ]
  },
  {
   "cell_type": "markdown",
   "metadata": {},
   "source": [
    "### visualize loss and accuracy"
   ]
  },
  {
   "cell_type": "code",
   "execution_count": 35,
   "metadata": {},
   "outputs": [
    {
     "data": {
      "image/png": "[encoded data removed]",
      "text/plain": [
       "<matplotlib.figure.Figure at 0x1a4d06cf8>"
      ]
     },
     "metadata": {},
     "output_type": "display_data"
    }
   ],
   "source": [
    "import matplotlib.pyplot as plt\n",
    "plt.plot(epoch_losses)\n",
    "plt.show()"
   ]
  },
  {
   "cell_type": "code",
   "execution_count": 36,
   "metadata": {},
   "outputs": [
    {
     "data": {
      "image/png": "[encoded data removed]",
      "text/plain": [
       "<matplotlib.figure.Figure at 0x1968d2710>"
      ]
     },
     "metadata": {},
     "output_type": "display_data"
    }
   ],
   "source": [
    "plt.plot(all_accuracies)\n",
    "plt.show()"
   ]
  },
  {
   "cell_type": "markdown",
   "metadata": {},
   "source": [
    "### testing"
   ]
  },
  {
   "cell_type": "code",
   "execution_count": 37,
   "metadata": {
    "collapsed": true
   },
   "outputs": [],
   "source": [
    "all_preds = []\n",
    "dy.renew_cg()\n",
    "for i in range(testX.shape[0]):\n",
    "    x = np.expand_dims(testX[i], axis=0)\n",
    "    pred = forward_pass(x)\n",
    "    all_preds.append(pred.value())"
   ]
  },
  {
   "cell_type": "markdown",
   "metadata": {},
   "source": [
    "Not surpisingly, the model now learns how to distinguish different documents, and so the predictions range all over."
   ]
  },
  {
   "cell_type": "code",
   "execution_count": 38,
   "metadata": {},
   "outputs": [
    {
     "name": "stdout",
     "output_type": "stream",
     "text": [
      "[0.9938002824783325, 0.031892552971839905, 0.019997594878077507, 0.9434055685997009, 0.09757977724075317, 0.0856943354010582, 0.14299167692661285, 0.9841702580451965, 0.9986687898635864, 0.97889244556427, 0.8899160623550415, 0.970642626285553, 0.9784659147262573, 0.9923116564750671, 0.09165816009044647, 0.05546952784061432, 0.9972788095474243, 0.5981377959251404, 0.019594930112361908, 0.15931999683380127, 0.016070013865828514, 0.14317043125629425, 0.0763273686170578, 0.9200121760368347, 0.6172536015510559, 0.9742691516876221, 0.033562071621418, 0.055378735065460205, 0.049312010407447815, 0.943130373954773, 0.03879440575838089, 0.00013812481483910233, 0.03762486204504967, 0.021258540451526642, 0.050125788897275925, 0.9738250970840454, 0.6780632138252258, 0.10629286617040634, 0.3953075110912323, 0.9754804968833923, 0.015997380018234253, 0.9115917086601257, 0.030291849747300148, 0.9801983833312988, 0.3217942416667938, 0.8202344179153442, 0.01976328156888485, 0.046175915747880936, 0.8958888649940491, 0.2522236406803131, 0.5322964191436768, 0.9979355931282043, 0.9222391247749329, 0.9679393172264099, 0.040605053305625916, 0.011731192469596863, 0.09428801387548447, 0.9694051742553711, 0.8620401620864868, 0.9893577694892883, 0.9414557218551636, 0.9919918775558472, 0.17663173377513885, 0.9969445466995239, 0.006417759694159031, 0.97627192735672, 0.9828311204910278, 0.9292377233505249, 0.9743335247039795, 0.04968138039112091, 0.7650996446609497, 0.34860315918922424, 0.9167198538780212, 0.029605301097035408, 0.7650996446609497, 0.9962797164916992, 0.9974610209465027, 0.009270763024687767, 0.9981213808059692, 0.9815159440040588, 0.9806039929389954, 0.032497309148311615, 0.014794385060667992, 0.5722876191139221, 0.20705631375312805, 0.9461387991905212, 0.9519013166427612, 0.016623083502054214, 0.7910381555557251, 0.9024056196212769, 0.0662374272942543, 0.058955639600753784, 0.9832429885864258, 0.19956785440444946, 0.9949264526367188, 0.9976420402526855, 0.913443922996521, 0.9979007244110107, 0.9732370376586914, 0.110469751060009, 0.366198867559433, 0.981827974319458, 0.09418976306915283, 0.10779699683189392, 0.9934017658233643]\n"
     ]
    }
   ],
   "source": [
    "print(all_preds)"
   ]
  },
  {
   "cell_type": "markdown",
   "metadata": {},
   "source": [
    "And our accuracy is fantastic!"
   ]
  },
  {
   "cell_type": "code",
   "execution_count": 39,
   "metadata": {},
   "outputs": [
    {
     "data": {
      "text/plain": [
       "0.9714285714285714"
      ]
     },
     "execution_count": 39,
     "metadata": {},
     "output_type": "execute_result"
    }
   ],
   "source": [
    "accuracy = get_accuracy([check_score(p, y) for p,y in zip(all_preds, list(testY))])\n",
    "accuracy"
   ]
  }
 ],
 "metadata": {
  "kernelspec": {
   "display_name": "Python 3",
   "language": "python",
   "name": "python3"
  },
  "language_info": {
   "codemirror_mode": {
    "name": "ipython",
    "version": 3
   },
   "file_extension": ".py",
   "mimetype": "text/x-python",
   "name": "python",
   "nbconvert_exporter": "python",
   "pygments_lexer": "ipython3",
   "version": "3.6.2"
  },
  "widgets": {
   "application/vnd.jupyter.widget-state+json": {
    "state": {},
    "version_major": 1,
    "version_minor": 0
   }
  }
 },
 "nbformat": 4,
 "nbformat_minor": 2
}
