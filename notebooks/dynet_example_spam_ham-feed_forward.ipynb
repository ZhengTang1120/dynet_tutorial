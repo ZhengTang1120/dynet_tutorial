{
 "cells": [
  {
   "cell_type": "code",
   "execution_count": 1,
   "metadata": {
    "collapsed": true
   },
   "outputs": [],
   "source": [
    "import dynet as dy\n",
    "import numpy as np\n",
    "\n",
    "dyparams = dy.DynetParams()\n",
    "dyparams.set_mem(2048)\n",
    "dyparams.set_random_seed(1978)\n",
    "dyparams.init()"
   ]
  },
  {
   "cell_type": "markdown",
   "metadata": {},
   "source": [
    "# `dyNet` example: `spam` v. `ham`"
   ]
  },
  {
   "cell_type": "markdown",
   "metadata": {},
   "source": [
    "## import features"
   ]
  },
  {
   "cell_type": "code",
   "execution_count": 2,
   "metadata": {
    "collapsed": true
   },
   "outputs": [],
   "source": [
    "import sys\n",
    "sys.path.append(\"..\")\n",
    "import utils as u"
   ]
  },
  {
   "cell_type": "code",
   "execution_count": 3,
   "metadata": {
    "collapsed": true
   },
   "outputs": [],
   "source": [
    "# change this string to match the path on your computer\n",
    "path_to_root = \"/Users/mcapizzi/Github/dynet_tutorial/\""
   ]
  },
  {
   "cell_type": "code",
   "execution_count": 4,
   "metadata": {},
   "outputs": [
    {
     "name": "stdout",
     "output_type": "stream",
     "text": [
      "loading training data\n",
      "loading test data\n"
     ]
    }
   ],
   "source": [
    "trainX, trainY, testX, testY = u.import_data(path_to_root)"
   ]
  },
  {
   "cell_type": "code",
   "execution_count": 5,
   "metadata": {},
   "outputs": [
    {
     "data": {
      "text/plain": [
       "((953, 2955), (953,))"
      ]
     },
     "execution_count": 5,
     "metadata": {},
     "output_type": "execute_result"
    }
   ],
   "source": [
    "trainX.shape, trainY.shape"
   ]
  },
  {
   "cell_type": "code",
   "execution_count": 6,
   "metadata": {},
   "outputs": [
    {
     "data": {
      "text/plain": [
       "((105, 2955), (105,))"
      ]
     },
     "execution_count": 6,
     "metadata": {},
     "output_type": "execute_result"
    }
   ],
   "source": [
    "testX.shape, testY.shape"
   ]
  },
  {
   "cell_type": "code",
   "execution_count": 7,
   "metadata": {},
   "outputs": [
    {
     "data": {
      "text/plain": [
       "array([1, 0, 0, 1, 0, 0, 0, 1, 1, 1, 1, 1, 1, 1, 0, 0, 1, 1, 0, 0, 0, 0, 0,\n",
       "       1, 0, 1, 0, 0, 0, 1, 0, 0, 0, 0, 0, 1, 0, 0, 0, 1, 0, 1, 0, 1, 0, 1,\n",
       "       0, 0, 1, 0, 1, 1, 1, 1, 0, 0, 0, 1, 1, 1, 1, 1, 0, 1, 0, 1, 1, 1, 1,\n",
       "       0, 1, 0, 1, 0, 1, 1, 1, 0, 1, 1, 1, 0, 0, 1, 0, 1, 1, 0, 1, 1, 0, 0,\n",
       "       1, 0, 1, 1, 1, 1, 1, 0, 1, 1, 0, 0, 1])"
      ]
     },
     "execution_count": 7,
     "metadata": {},
     "output_type": "execute_result"
    }
   ],
   "source": [
    "testY"
   ]
  },
  {
   "cell_type": "code",
   "execution_count": 8,
   "metadata": {},
   "outputs": [
    {
     "data": {
      "text/plain": [
       "(array([   0,   21,   27,   47,   77,   93,  118,  147,  229,  231,  239,\n",
       "         245,  247,  251,  274,  308,  333,  362,  388,  432,  461,  467,\n",
       "         501,  502,  504,  534,  541,  596,  612,  613,  616,  619,  622,\n",
       "         627,  636,  657,  741,  763,  816,  845,  849,  870,  885,  921,\n",
       "         972,  991, 1024, 1060, 1083, 1116, 1128, 1160, 1224, 1258, 1290,\n",
       "        1322, 1327, 1393, 1408, 1419, 1424, 1437, 1456, 1530, 1531, 1566,\n",
       "        1625, 1628, 1636, 1643, 1685, 1740, 1751, 1803, 1867, 1936, 1956,\n",
       "        2004, 2007, 2032, 2053, 2091, 2120, 2121, 2135, 2146, 2163, 2202,\n",
       "        2205, 2210, 2335, 2374, 2376, 2392, 2427, 2453, 2460, 2466, 2478,\n",
       "        2487, 2516, 2526, 2544, 2547, 2557, 2575, 2578, 2599, 2627, 2670,\n",
       "        2678, 2679, 2690, 2701, 2730, 2765, 2790, 2812, 2830, 2856, 2883,\n",
       "        2887, 2889, 2899]),)"
      ]
     },
     "execution_count": 8,
     "metadata": {},
     "output_type": "execute_result"
    }
   ],
   "source": [
    "np.nonzero(testX[20])"
   ]
  },
  {
   "cell_type": "code",
   "execution_count": 9,
   "metadata": {},
   "outputs": [
    {
     "data": {
      "text/plain": [
       "0.01383399209486166"
      ]
     },
     "execution_count": 9,
     "metadata": {},
     "output_type": "execute_result"
    }
   ],
   "source": [
    "trainX[20][47]"
   ]
  },
  {
   "cell_type": "markdown",
   "metadata": {},
   "source": [
    "## build architecture\n",
    "all images borrowed from here: http://u.cs.biu.ac.il/~yogo/nnlp.pdf (now a book!)"
   ]
  },
  {
   "cell_type": "markdown",
   "metadata": {},
   "source": [
    "![goldberg_nn](images/goldberg_ff.png)"
   ]
  },
  {
   "cell_type": "markdown",
   "metadata": {},
   "source": [
    "![goldberg_ff_math](images/goldberg_ff_math.png)"
   ]
  },
  {
   "cell_type": "markdown",
   "metadata": {},
   "source": [
    "### initialize empty model\n",
    "\n",
    "See http://dynet.readthedocs.io/en/latest/python_ref.html#parametercollection"
   ]
  },
  {
   "cell_type": "code",
   "execution_count": 10,
   "metadata": {},
   "outputs": [
    {
     "data": {
      "text/plain": [
       "<_dynet.ParameterCollection at 0x10dff4d20>"
      ]
     },
     "execution_count": 10,
     "metadata": {},
     "output_type": "execute_result"
    }
   ],
   "source": [
    "feed_forward_model = dy.ParameterCollection()   # used to be called dy.Model()\n",
    "feed_forward_model"
   ]
  },
  {
   "cell_type": "markdown",
   "metadata": {},
   "source": [
    "### dimensions"
   ]
  },
  {
   "cell_type": "code",
   "execution_count": 11,
   "metadata": {
    "collapsed": true
   },
   "outputs": [],
   "source": [
    "# size of input (2955)\n",
    "input_size = trainX.shape[1]\n",
    "# size of hidden layer\n",
    "hidden_size = 200"
   ]
  },
  {
   "cell_type": "markdown",
   "metadata": {},
   "source": [
    "### weight matrices and bias vectors\n",
    "![goldberg_math_simple](images/goldberg_ff_math_simple.png)"
   ]
  },
  {
   "cell_type": "markdown",
   "metadata": {},
   "source": [
    "#### paramater `initializer`\n",
    "See http://dynet.readthedocs.io/en/latest/python_ref.html#parameters-initializers"
   ]
  },
  {
   "cell_type": "code",
   "execution_count": 12,
   "metadata": {
    "collapsed": true
   },
   "outputs": [],
   "source": [
    "initializer = dy.GlorotInitializer(gain=4.0)"
   ]
  },
  {
   "cell_type": "code",
   "execution_count": 13,
   "metadata": {},
   "outputs": [
    {
     "data": {
      "text/plain": [
       "(_dynet.Parameters, _dynet.Expression)"
      ]
     },
     "execution_count": 13,
     "metadata": {},
     "output_type": "execute_result"
    }
   ],
   "source": [
    "# W_1 (input x hidden) as a Parameters object\n",
    "pW_1 = feed_forward_model.add_parameters(\n",
    "    (input_size, hidden_size),\n",
    "    init=initializer\n",
    ")\n",
    "type(pW_1), type(dy.parameter(pW_1))"
   ]
  },
  {
   "cell_type": "code",
   "execution_count": 14,
   "metadata": {},
   "outputs": [
    {
     "data": {
      "text/plain": [
       "(2955, 200)"
      ]
     },
     "execution_count": 14,
     "metadata": {},
     "output_type": "execute_result"
    }
   ],
   "source": [
    "# check the shape of the Expression\n",
    "dy.parameter(pW_1).npvalue().shape"
   ]
  },
  {
   "cell_type": "code",
   "execution_count": 15,
   "metadata": {},
   "outputs": [
    {
     "data": {
      "text/plain": [
       "(1, 200)"
      ]
     },
     "execution_count": 15,
     "metadata": {},
     "output_type": "execute_result"
    }
   ],
   "source": [
    "# b_1 (1 x hidden) as a Parameters object\n",
    "pb_1 = feed_forward_model.add_parameters(\n",
    "    (1, hidden_size),\n",
    "    init=initializer\n",
    ")\n",
    "# check the shape\n",
    "dy.parameter(pb_1).npvalue().shape"
   ]
  },
  {
   "cell_type": "code",
   "execution_count": 16,
   "metadata": {},
   "outputs": [
    {
     "data": {
      "text/plain": [
       "(200, 1)"
      ]
     },
     "execution_count": 16,
     "metadata": {},
     "output_type": "execute_result"
    }
   ],
   "source": [
    "# W_2 (hidden x output) as a Parameters object\n",
    "pW_2 = feed_forward_model.add_parameters(\n",
    "    (hidden_size, 1),\n",
    "    init=initializer\n",
    ")\n",
    "# check the shape\n",
    "dy.parameter(pW_2).npvalue().shape"
   ]
  },
  {
   "cell_type": "code",
   "execution_count": 17,
   "metadata": {},
   "outputs": [
    {
     "data": {
      "text/plain": [
       "(1, 1)"
      ]
     },
     "execution_count": 17,
     "metadata": {},
     "output_type": "execute_result"
    }
   ],
   "source": [
    "# b_2 (1 x output) as a Paramters object\n",
    "pb_2 = feed_forward_model.add_parameters(\n",
    "    (1, 1),\n",
    "    init=initializer\n",
    ")\n",
    "# check the shape\n",
    "dy.parameter(pb_2).npvalue().shape"
   ]
  },
  {
   "cell_type": "markdown",
   "metadata": {},
   "source": [
    "### forward operations\n",
    "![goldberg_math_simple](images/goldberg_ff_math_simple.png)"
   ]
  },
  {
   "cell_type": "code",
   "execution_count": 18,
   "metadata": {
    "collapsed": true
   },
   "outputs": [],
   "source": [
    "def forward_pass(x):\n",
    "    \"\"\"\n",
    "    This function will wrap all the steps of the forward pass\n",
    "    :param x: the input\n",
    "    \"\"\"\n",
    "    # convert input to Expression (this step must happen here b/c of autobatching)\n",
    "    x = dy.inputTensor(x)\n",
    "    # convert Parameters to Expressions\n",
    "    W_1 = dy.parameter(pW_1)\n",
    "    b_1 = dy.parameter(pb_1)\n",
    "    W_2 = dy.parameter(pW_2)\n",
    "    b_2 = dy.parameter(pb_2)\n",
    "    # calculate the first hidden layer\n",
    "    hidden = x * W_1 + b_1          \n",
    "    # calculate the sigmoid activation\n",
    "    hidden_activation = dy.logistic(hidden)    \n",
    "    # calculate the output layer\n",
    "    output = hidden_activation * W_2 + b_2\n",
    "    # return the sigmoid of the output\n",
    "    return dy.logistic(output)"
   ]
  },
  {
   "cell_type": "markdown",
   "metadata": {},
   "source": [
    "### training"
   ]
  },
  {
   "cell_type": "markdown",
   "metadata": {},
   "source": [
    "#### initializing a `trainer`\n",
    "See http://dynet.readthedocs.io/en/latest/python_ref.html#optimizers"
   ]
  },
  {
   "cell_type": "code",
   "execution_count": 19,
   "metadata": {
    "collapsed": true
   },
   "outputs": [],
   "source": [
    "trainer = dy.SimpleSGDTrainer(\n",
    "    m=feed_forward_model,\n",
    "    learning_rate=0.01\n",
    ")"
   ]
  },
  {
   "cell_type": "markdown",
   "metadata": {},
   "source": [
    "### autobatching\n",
    "See http://dynet.readthedocs.io/en/latest/minibatch.html#"
   ]
  },
  {
   "cell_type": "code",
   "execution_count": 21,
   "metadata": {
    "collapsed": true
   },
   "outputs": [],
   "source": [
    "dyparams = dy.DynetParams()\n",
    "dyparams.set_autobatch(True)\n",
    "dyparams.set_mem(2048)\n",
    "dyparams.set_random_seed(1978)\n",
    "dyparams.init()"
   ]
  },
  {
   "cell_type": "markdown",
   "metadata": {},
   "source": [
    "#### one `epoch`"
   ]
  },
  {
   "cell_type": "code",
   "execution_count": 22,
   "metadata": {
    "collapsed": true
   },
   "outputs": [],
   "source": [
    "# store original values of W_1\n",
    "original_W1 = dy.parameter(pW_1).npvalue()\n",
    "# begin a clean computational graph\n",
    "dy.renew_cg()\n",
    "# initialize list to capture individual losses\n",
    "losses = []"
   ]
  },
  {
   "cell_type": "code",
   "execution_count": 23,
   "metadata": {
    "collapsed": true
   },
   "outputs": [],
   "source": [
    "# iterate through the dataset\n",
    "for i in range(trainX.shape[0]):\n",
    "    # prepare input\n",
    "    x = np.expand_dims(trainX[i], axis=0)   # must make it a vector with dimensions (1 x voc_size)\n",
    "    # prepare output\n",
    "    y = dy.scalarInput(trainY[i])\n",
    "    # make a forward pass\n",
    "    pred = forward_pass(x)\n",
    "    # calculate loss for each example\n",
    "    loss = dy.binary_log_loss(pred, y) \n",
    "    losses.append(loss)"
   ]
  },
  {
   "cell_type": "code",
   "execution_count": 24,
   "metadata": {
    "collapsed": true
   },
   "outputs": [],
   "source": [
    "# get total loss for dataset\n",
    "total_loss = dy.esum(losses)\n",
    "# apply the calculations of the computational graph\n",
    "total_loss.forward()\n",
    "# calculate loss to backpropogate\n",
    "total_loss.backward()\n",
    "# update parameters with backpropogated error\n",
    "trainer.update()"
   ]
  },
  {
   "cell_type": "code",
   "execution_count": 25,
   "metadata": {},
   "outputs": [
    {
     "name": "stdout",
     "output_type": "stream",
     "text": [
      "change in W_1 parameter values: 0.004230523849315659\n"
     ]
    }
   ],
   "source": [
    "# confirm that parameters updated\n",
    "dy.renew_cg()\n",
    "print(\"change in W_1 parameter values: {}\".format(\n",
    "    np.sum(original_W1 - dy.parameter(pW_1).npvalue())\n",
    "))"
   ]
  },
  {
   "cell_type": "markdown",
   "metadata": {},
   "source": [
    "### testing"
   ]
  },
  {
   "cell_type": "markdown",
   "metadata": {},
   "source": [
    "#### make a single prediction"
   ]
  },
  {
   "cell_type": "code",
   "execution_count": 26,
   "metadata": {},
   "outputs": [
    {
     "name": "stdout",
     "output_type": "stream",
     "text": [
      "0.032890334725379944\n"
     ]
    }
   ],
   "source": [
    "pred = forward_pass(np.expand_dims(testX[0], axis=0))\n",
    "print(pred.value())"
   ]
  },
  {
   "cell_type": "markdown",
   "metadata": {},
   "source": [
    "#### get predictions on entire test set"
   ]
  },
  {
   "cell_type": "code",
   "execution_count": 27,
   "metadata": {
    "collapsed": true
   },
   "outputs": [],
   "source": [
    "all_preds = []\n",
    "dy.renew_cg()\n",
    "for i in range(testX.shape[0]):\n",
    "    x = np.expand_dims(testX[i], axis=0)\n",
    "    pred = forward_pass(x)\n",
    "    all_preds.append(pred.value())\n",
    "original_preds = all_preds"
   ]
  },
  {
   "cell_type": "code",
   "execution_count": 28,
   "metadata": {},
   "outputs": [
    {
     "name": "stdout",
     "output_type": "stream",
     "text": [
      "[0.032890334725379944, 0.03312969580292702, 0.03335326910018921, 0.03289978578686714, 0.03276115655899048, 0.032902076840400696, 0.03261207044124603, 0.03242418169975281, 0.0325341671705246, 0.033869944512844086, 0.03316130489110947, 0.033259496092796326, 0.0339745469391346, 0.03289671987295151, 0.03277042508125305, 0.03276296705007553, 0.03249910846352577, 0.03389919549226761, 0.0329652838408947, 0.03329315036535263, 0.033141106367111206, 0.03266499564051628, 0.03226098045706749, 0.03320048749446869, 0.033435024321079254, 0.03258293494582176, 0.03279656171798706, 0.032985758036375046, 0.03221329301595688, 0.03259793296456337, 0.03358956798911095, 0.034096453338861465, 0.03343535587191582, 0.03276187926530838, 0.033528883010149, 0.032876595854759216, 0.03345732018351555, 0.03317318484187126, 0.033049073070287704, 0.032904092222452164, 0.033035796135663986, 0.031977664679288864, 0.033022914081811905, 0.03365425020456314, 0.032270196825265884, 0.03327720984816551, 0.03315359354019165, 0.033050209283828735, 0.0340314656496048, 0.03318203240633011, 0.033738669008016586, 0.03267749771475792, 0.03280334547162056, 0.03316550329327583, 0.03288399428129196, 0.03280456364154816, 0.032690998166799545, 0.03354932367801666, 0.03378467261791229, 0.03300795704126358, 0.03268589451909065, 0.03347334638237953, 0.03267447650432587, 0.03214884176850319, 0.0332428477704525, 0.032604917883872986, 0.032739706337451935, 0.03303997963666916, 0.033656638115644455, 0.033173054456710815, 0.03317933529615402, 0.0331251434981823, 0.032058391720056534, 0.033457592129707336, 0.03317933529615402, 0.033073775470256805, 0.032568030059337616, 0.03364817425608635, 0.03170475736260414, 0.0331936776638031, 0.03359117731451988, 0.033028196543455124, 0.03325449675321579, 0.03267330676317215, 0.03300802409648895, 0.03315787389874458, 0.03311863914132118, 0.033466946333646774, 0.03331853449344635, 0.03342098742723465, 0.03203307092189789, 0.032659776508808136, 0.03332109376788139, 0.03329071030020714, 0.032570730894804, 0.03241534158587456, 0.033259082585573196, 0.032457828521728516, 0.03261110559105873, 0.03294449299573898, 0.03384222835302353, 0.03388945385813713, 0.0327829048037529, 0.0322536863386631, 0.03306380659341812]\n"
     ]
    }
   ],
   "source": [
    "print(original_preds)"
   ]
  },
  {
   "cell_type": "code",
   "execution_count": 29,
   "metadata": {
    "collapsed": true
   },
   "outputs": [],
   "source": [
    "def check_score(pred, true_y):\n",
    "    # convert pred to hard label\n",
    "    label = 1 if pred >= 0.5 else 0\n",
    "    # compare to true_y\n",
    "    return 1 if label == true_y else 0"
   ]
  },
  {
   "cell_type": "code",
   "execution_count": 30,
   "metadata": {
    "collapsed": true
   },
   "outputs": [],
   "source": [
    "def get_accuracy(list_of_scores):\n",
    "    return float(sum(list_of_scores) / len(list_of_scores))"
   ]
  },
  {
   "cell_type": "code",
   "execution_count": 31,
   "metadata": {},
   "outputs": [
    {
     "data": {
      "text/plain": [
       "0.4666666666666667"
      ]
     },
     "execution_count": 31,
     "metadata": {},
     "output_type": "execute_result"
    }
   ],
   "source": [
    "accuracy = get_accuracy([check_score(p, y) for p,y in zip(all_preds, list(testY))])\n",
    "accuracy"
   ]
  },
  {
   "cell_type": "markdown",
   "metadata": {},
   "source": [
    "### multiple epochs and minibatches"
   ]
  },
  {
   "cell_type": "code",
   "execution_count": 32,
   "metadata": {},
   "outputs": [
    {
     "data": {
      "text/plain": [
       "8"
      ]
     },
     "execution_count": 32,
     "metadata": {},
     "output_type": "execute_result"
    }
   ],
   "source": [
    "num_epochs = 1000\n",
    "batch_size = 128\n",
    "num_batches = int(np.ceil(trainX.shape[0] / batch_size))\n",
    "num_batches"
   ]
  },
  {
   "cell_type": "code",
   "execution_count": 33,
   "metadata": {
    "collapsed": true
   },
   "outputs": [],
   "source": [
    "# bookeeping\n",
    "original_W1 = dy.parameter(pW_1).npvalue()\n",
    "epoch_losses = []\n",
    "all_accuracies = []"
   ]
  },
  {
   "cell_type": "code",
   "execution_count": 34,
   "metadata": {},
   "outputs": [
    {
     "name": "stdout",
     "output_type": "stream",
     "text": [
      "epoch 1\n",
      "epoch 101\n",
      "epoch 201\n",
      "epoch 301\n",
      "epoch 401\n",
      "epoch 501\n",
      "epoch 601\n",
      "epoch 701\n",
      "epoch 801\n",
      "epoch 901\n",
      "change in W_1 parameter values: 0.3589535474160357\n"
     ]
    }
   ],
   "source": [
    "# iterate through epochs\n",
    "for i in range(num_epochs):\n",
    "    epoch_loss = []\n",
    "    if i % 100 == 0:\n",
    "        print(\"epoch {}\".format(i+1))\n",
    "    # shuffle dataset\n",
    "    np.random.seed(i)\n",
    "    np.random.shuffle(trainX)\n",
    "    np.random.seed(i)           # make sure to reset seed again to keep labels and data together!\n",
    "    np.random.shuffle(trainY)\n",
    "    # iterate through batches\n",
    "    for j in range(num_batches):\n",
    "        # begin a clean computational graph *at beginning of each batch*\n",
    "        dy.renew_cg()\n",
    "        losses = []\n",
    "        # build the batch\n",
    "        batchX = trainX[j*batch_size:(j+1)*batch_size]\n",
    "        batchY = trainY[j*batch_size:(j+1)*batch_size]\n",
    "        # iterate through the batch\n",
    "        for k in range(batchX.shape[0]):\n",
    "            # prepare input\n",
    "            x = np.expand_dims(batchX[k], axis=0)\n",
    "            # prepare output\n",
    "            y = dy.scalarInput(batchY[k])\n",
    "            # make a forward pass\n",
    "            pred = forward_pass(x)\n",
    "            # calculate loss for each example\n",
    "            loss = dy.binary_log_loss(pred, y)  \n",
    "            losses.append(loss)\n",
    "        # get total loss for batch\n",
    "        total_loss = dy.esum(losses)\n",
    "        # applies the calculations of the computational graph\n",
    "        total_loss.forward()\n",
    "        # calculates loss to backpropogate\n",
    "        total_loss.backward()\n",
    "        # update parameters with backpropogated error\n",
    "        trainer.update()\n",
    "        # record batch loss\n",
    "        epoch_loss.append(total_loss.npvalue())\n",
    "    # record epoch loss\n",
    "    epoch_losses.append(np.sum(epoch_loss))\n",
    "    # check performance on test set\n",
    "    all_preds = []\n",
    "    dy.renew_cg()\n",
    "    for i in range(testX.shape[0]):\n",
    "        x = np.expand_dims(testX[i], axis=0)\n",
    "        pred = forward_pass(x)\n",
    "        all_preds.append(pred.value())\n",
    "    accuracy = get_accuracy([check_score(p, y) for p,y in zip(all_preds, list(testY))])\n",
    "    all_accuracies.append(accuracy)\n",
    "# confirm that parameters updated\n",
    "dy.renew_cg()\n",
    "print(\"change in W_1 parameter values: {}\".format(\n",
    "    np.sum(original_W1 - dy.parameter(pW_1).npvalue())\n",
    "))"
   ]
  },
  {
   "cell_type": "markdown",
   "metadata": {},
   "source": [
    "### visualize loss and accuracy"
   ]
  },
  {
   "cell_type": "code",
   "execution_count": 35,
   "metadata": {},
   "outputs": [
    {
     "data": {
      "image/png": "[encoded data removed]",
      "text/plain": [
       "<matplotlib.figure.Figure at 0x133ccb780>"
      ]
     },
     "metadata": {},
     "output_type": "display_data"
    }
   ],
   "source": [
    "import matplotlib.pyplot as plt\n",
    "plt.plot(epoch_losses)\n",
    "plt.show()"
   ]
  },
  {
   "cell_type": "code",
   "execution_count": 36,
   "metadata": {},
   "outputs": [
    {
     "data": {
      "image/png": "[encoded data removed]",
      "text/plain": [
       "<matplotlib.figure.Figure at 0x1350cee10>"
      ]
     },
     "metadata": {},
     "output_type": "display_data"
    }
   ],
   "source": [
    "plt.plot(all_accuracies)\n",
    "plt.show()"
   ]
  },
  {
   "cell_type": "markdown",
   "metadata": {},
   "source": [
    "### testing"
   ]
  },
  {
   "cell_type": "code",
   "execution_count": 37,
   "metadata": {
    "collapsed": true
   },
   "outputs": [],
   "source": [
    "all_preds = []\n",
    "dy.renew_cg()\n",
    "for i in range(testX.shape[0]):\n",
    "    x = np.expand_dims(testX[i], axis=0)\n",
    "    pred = forward_pass(x)\n",
    "    all_preds.append(pred.value())"
   ]
  },
  {
   "cell_type": "code",
   "execution_count": 38,
   "metadata": {},
   "outputs": [
    {
     "data": {
      "text/plain": [
       "0.9714285714285714"
      ]
     },
     "execution_count": 38,
     "metadata": {},
     "output_type": "execute_result"
    }
   ],
   "source": [
    "accuracy = get_accuracy([check_score(p, y) for p,y in zip(all_preds, list(testY))])\n",
    "accuracy"
   ]
  },
  {
   "cell_type": "code",
   "execution_count": 40,
   "metadata": {},
   "outputs": [
    {
     "name": "stdout",
     "output_type": "stream",
     "text": [
      "[0.9928320646286011, 0.03397256135940552, 0.023673199117183685, 0.9413061141967773, 0.10912294685840607, 0.09180933237075806, 0.15185657143592834, 0.9829750061035156, 0.9984959959983826, 0.9795349836349487, 0.8904619812965393, 0.9704824090003967, 0.9803579449653625, 0.991703450679779, 0.09739886224269867, 0.0625636875629425, 0.9968883395195007, 0.6011726260185242, 0.02273273654282093, 0.1664777398109436, 0.019492700695991516, 0.13371717929840088, 0.0828305184841156, 0.9210159778594971, 0.6415531039237976, 0.9714575409889221, 0.037872109562158585, 0.06353715807199478, 0.05367226526141167, 0.9382825493812561, 0.043739378452301025, 0.00014514762733597308, 0.04499735310673714, 0.025725338608026505, 0.055009376257658005, 0.9738768339157104, 0.6865576505661011, 0.11978664249181747, 0.40830719470977783, 0.9735152721405029, 0.019166238605976105, 0.904233455657959, 0.03331451117992401, 0.9807868003845215, 0.3391875624656677, 0.8210709691047668, 0.02023393101990223, 0.05242954194545746, 0.8986124396324158, 0.2613354027271271, 0.5289427042007446, 0.9975922703742981, 0.9100868105888367, 0.9670699834823608, 0.04169481620192528, 0.01413638237863779, 0.10025911778211594, 0.9708705544471741, 0.8654304146766663, 0.9889875054359436, 0.9382280111312866, 0.9911670088768005, 0.18112652003765106, 0.9959380626678467, 0.007277603726834059, 0.9746301174163818, 0.9824376106262207, 0.9216815233230591, 0.9733995795249939, 0.060071032494306564, 0.7819457650184631, 0.3671996593475342, 0.9096357226371765, 0.03794362023472786, 0.7819457650184631, 0.9960406422615051, 0.9972496628761292, 0.01095243077725172, 0.9975852966308594, 0.980446457862854, 0.9818133115768433, 0.041164349764585495, 0.017458681017160416, 0.590942919254303, 0.23154066503047943, 0.9480330944061279, 0.9539424777030945, 0.01915139891207218, 0.80739426612854, 0.905210554599762, 0.06968295574188232, 0.0637560710310936, 0.9822218418121338, 0.21106962859630585, 0.9944535493850708, 0.997418224811554, 0.9126400947570801, 0.9977003931999207, 0.9704794883728027, 0.12728485465049744, 0.3820432722568512, 0.9804227352142334, 0.10026662051677704, 0.11873418837785721, 0.9930112957954407]\n"
     ]
    }
   ],
   "source": [
    "print(all_preds)"
   ]
  }
 ],
 "metadata": {
  "kernelspec": {
   "display_name": "Python 3",
   "language": "python",
   "name": "python3"
  },
  "language_info": {
   "codemirror_mode": {
    "name": "ipython",
    "version": 3
   },
   "file_extension": ".py",
   "mimetype": "text/x-python",
   "name": "python",
   "nbconvert_exporter": "python",
   "pygments_lexer": "ipython3",
   "version": "3.6.2"
  },
  "widgets": {
   "application/vnd.jupyter.widget-state+json": {
    "state": {},
    "version_major": 1,
    "version_minor": 0
   }
  }
 },
 "nbformat": 4,
 "nbformat_minor": 2
}
