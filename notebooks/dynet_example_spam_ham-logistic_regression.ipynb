{
 "cells": [
  {
   "cell_type": "code",
   "execution_count": 1,
   "metadata": {
    "collapsed": true
   },
   "outputs": [],
   "source": [
    "import dynet as dy\n",
    "import numpy as np"
   ]
  },
  {
   "cell_type": "markdown",
   "metadata": {},
   "source": [
    "# `dyNet` example: `spam` v. `ham`"
   ]
  },
  {
   "cell_type": "markdown",
   "metadata": {},
   "source": [
    "## import features"
   ]
  },
  {
   "cell_type": "code",
   "execution_count": 2,
   "metadata": {
    "collapsed": true
   },
   "outputs": [],
   "source": [
    "import sys\n",
    "sys.path.append(\"..\")\n",
    "import utils as u"
   ]
  },
  {
   "cell_type": "code",
   "execution_count": 3,
   "metadata": {
    "collapsed": true
   },
   "outputs": [],
   "source": [
    "# change this string to match the path on your computer\n",
    "path_to_root = \"/Users/mcapizzi/Github/dynet_tutorial/\""
   ]
  },
  {
   "cell_type": "code",
   "execution_count": 4,
   "metadata": {},
   "outputs": [
    {
     "name": "stdout",
     "output_type": "stream",
     "text": [
      "loading training data\n",
      "loading test data\n"
     ]
    }
   ],
   "source": [
    "trainX, trainY, testX, testY = u.import_data(path_to_root)"
   ]
  },
  {
   "cell_type": "code",
   "execution_count": 5,
   "metadata": {},
   "outputs": [
    {
     "data": {
      "text/plain": [
       "((953, 2955), (953,))"
      ]
     },
     "execution_count": 5,
     "metadata": {},
     "output_type": "execute_result"
    }
   ],
   "source": [
    "trainX.shape, trainY.shape"
   ]
  },
  {
   "cell_type": "code",
   "execution_count": 6,
   "metadata": {},
   "outputs": [
    {
     "data": {
      "text/plain": [
       "((105, 2955), (105,))"
      ]
     },
     "execution_count": 6,
     "metadata": {},
     "output_type": "execute_result"
    }
   ],
   "source": [
    "testX.shape, testY.shape"
   ]
  },
  {
   "cell_type": "code",
   "execution_count": 7,
   "metadata": {},
   "outputs": [
    {
     "data": {
      "text/plain": [
       "array([1, 0, 0, 1, 0, 0, 0, 1, 1, 1, 1, 1, 1, 1, 0, 0, 1, 1, 0, 0, 0, 0, 0,\n",
       "       1, 0, 1, 0, 0, 0, 1, 0, 0, 0, 0, 0, 1, 0, 0, 0, 1, 0, 1, 0, 1, 0, 1,\n",
       "       0, 0, 1, 0, 1, 1, 1, 1, 0, 0, 0, 1, 1, 1, 1, 1, 0, 1, 0, 1, 1, 1, 1,\n",
       "       0, 1, 0, 1, 0, 1, 1, 1, 0, 1, 1, 1, 0, 0, 1, 0, 1, 1, 0, 1, 1, 0, 0,\n",
       "       1, 0, 1, 1, 1, 1, 1, 0, 1, 1, 0, 0, 1])"
      ]
     },
     "execution_count": 7,
     "metadata": {},
     "output_type": "execute_result"
    }
   ],
   "source": [
    "testY"
   ]
  },
  {
   "cell_type": "code",
   "execution_count": 8,
   "metadata": {},
   "outputs": [
    {
     "data": {
      "text/plain": [
       "(array([   0,   21,   27,   47,   77,   93,  118,  147,  229,  231,  239,\n",
       "         245,  247,  251,  274,  308,  333,  362,  388,  432,  461,  467,\n",
       "         501,  502,  504,  534,  541,  596,  612,  613,  616,  619,  622,\n",
       "         627,  636,  657,  741,  763,  816,  845,  849,  870,  885,  921,\n",
       "         972,  991, 1024, 1060, 1083, 1116, 1128, 1160, 1224, 1258, 1290,\n",
       "        1322, 1327, 1393, 1408, 1419, 1424, 1437, 1456, 1530, 1531, 1566,\n",
       "        1625, 1628, 1636, 1643, 1685, 1740, 1751, 1803, 1867, 1936, 1956,\n",
       "        2004, 2007, 2032, 2053, 2091, 2120, 2121, 2135, 2146, 2163, 2202,\n",
       "        2205, 2210, 2335, 2374, 2376, 2392, 2427, 2453, 2460, 2466, 2478,\n",
       "        2487, 2516, 2526, 2544, 2547, 2557, 2575, 2578, 2599, 2627, 2670,\n",
       "        2678, 2679, 2690, 2701, 2730, 2765, 2790, 2812, 2830, 2856, 2883,\n",
       "        2887, 2889, 2899]),)"
      ]
     },
     "execution_count": 8,
     "metadata": {},
     "output_type": "execute_result"
    }
   ],
   "source": [
    "np.nonzero(testX[20])"
   ]
  },
  {
   "cell_type": "code",
   "execution_count": 9,
   "metadata": {},
   "outputs": [
    {
     "data": {
      "text/plain": [
       "0.01383399209486166"
      ]
     },
     "execution_count": 9,
     "metadata": {},
     "output_type": "execute_result"
    }
   ],
   "source": [
    "trainX[20][47]"
   ]
  },
  {
   "cell_type": "markdown",
   "metadata": {},
   "source": [
    "## build architecture\n",
    "image from here: http://jrmeyer.github.io/tutorial/2016/02/01/TensorFlow-Tutorial.html <br>\n",
    "text from here: https://www.tensorflow.org/tutorials/wide#how_logistic_regression_works"
   ]
  },
  {
   "cell_type": "markdown",
   "metadata": {},
   "source": [
    "![logistic_regression](images/logistic_regression.png)"
   ]
  },
  {
   "cell_type": "markdown",
   "metadata": {},
   "source": [
    "![logistic_regression_math](images/logistic_regression_math.png)"
   ]
  },
  {
   "cell_type": "markdown",
   "metadata": {},
   "source": [
    "### initialize empty model\n",
    "\n",
    "See http://dynet.readthedocs.io/en/latest/python_ref.html#parametercollection"
   ]
  },
  {
   "cell_type": "code",
   "execution_count": 10,
   "metadata": {},
   "outputs": [
    {
     "data": {
      "text/plain": [
       "<_dynet.ParameterCollection at 0x12d48e300>"
      ]
     },
     "execution_count": 10,
     "metadata": {},
     "output_type": "execute_result"
    }
   ],
   "source": [
    "lr_model = dy.ParameterCollection()   # used to be called dy.Model()\n",
    "lr_model"
   ]
  },
  {
   "cell_type": "markdown",
   "metadata": {},
   "source": [
    "### dimensions"
   ]
  },
  {
   "cell_type": "code",
   "execution_count": 11,
   "metadata": {
    "collapsed": true
   },
   "outputs": [],
   "source": [
    "# size of input (2955)\n",
    "input_size = trainX.shape[1]\n",
    "# size of output\n",
    "output_size = 1"
   ]
  },
  {
   "cell_type": "markdown",
   "metadata": {},
   "source": [
    "### weight matrices and bias vectors"
   ]
  },
  {
   "cell_type": "markdown",
   "metadata": {},
   "source": [
    "#### paramater `initializer`\n",
    "See http://dynet.readthedocs.io/en/latest/python_ref.html#parameters-initializers"
   ]
  },
  {
   "cell_type": "code",
   "execution_count": 12,
   "metadata": {
    "collapsed": true
   },
   "outputs": [],
   "source": [
    "initializer = dy.GlorotInitializer(gain=4.0)"
   ]
  },
  {
   "cell_type": "code",
   "execution_count": 13,
   "metadata": {},
   "outputs": [
    {
     "data": {
      "text/plain": [
       "(_dynet.Parameters, _dynet.Expression)"
      ]
     },
     "execution_count": 13,
     "metadata": {},
     "output_type": "execute_result"
    }
   ],
   "source": [
    "# W (input x output) as a Parameters object\n",
    "pW = lr_model.add_parameters(\n",
    "    (input_size, output_size),\n",
    "    init=initializer\n",
    ")\n",
    "type(pW), type(dy.parameter(pW))"
   ]
  },
  {
   "cell_type": "code",
   "execution_count": 14,
   "metadata": {},
   "outputs": [
    {
     "data": {
      "text/plain": [
       "(2955, 1)"
      ]
     },
     "execution_count": 14,
     "metadata": {},
     "output_type": "execute_result"
    }
   ],
   "source": [
    "# check the shape of the Expression\n",
    "dy.parameter(pW).npvalue().shape"
   ]
  },
  {
   "cell_type": "code",
   "execution_count": 15,
   "metadata": {},
   "outputs": [
    {
     "data": {
      "text/plain": [
       "(1, 1)"
      ]
     },
     "execution_count": 15,
     "metadata": {},
     "output_type": "execute_result"
    }
   ],
   "source": [
    "# b (1 x output) as a Parameters object\n",
    "pb = lr_model.add_parameters(\n",
    "    (1, output_size),\n",
    "    init=initializer\n",
    ")\n",
    "# check the shape\n",
    "dy.parameter(pb).npvalue().shape"
   ]
  },
  {
   "cell_type": "markdown",
   "metadata": {},
   "source": [
    "### forward operations"
   ]
  },
  {
   "cell_type": "code",
   "execution_count": 16,
   "metadata": {
    "collapsed": true
   },
   "outputs": [],
   "source": [
    "def forward_pass(x):\n",
    "    \"\"\"\n",
    "    This function will wrap all the steps of the forward pass\n",
    "    :param x: the input\n",
    "    \"\"\"\n",
    "    # convert input to Expression (this step must happen here b/c of autobatching)\n",
    "    x = dy.inputTensor(x)\n",
    "    # convert Parameters to Expressions\n",
    "    W = dy.parameter(pW)\n",
    "    b = dy.parameter(pb)\n",
    "    affine_transformation = x * W + b          \n",
    "    # calculate and return the sigmoid activation\n",
    "    return dy.logistic(affine_transformation)"
   ]
  },
  {
   "cell_type": "markdown",
   "metadata": {},
   "source": [
    "### training"
   ]
  },
  {
   "cell_type": "markdown",
   "metadata": {},
   "source": [
    "#### initializing a `trainer`\n",
    "See http://dynet.readthedocs.io/en/latest/python_ref.html#optimizers"
   ]
  },
  {
   "cell_type": "code",
   "execution_count": 17,
   "metadata": {
    "collapsed": true
   },
   "outputs": [],
   "source": [
    "trainer = dy.SimpleSGDTrainer(\n",
    "    m=lr_model,\n",
    "    learning_rate=0.01\n",
    ")"
   ]
  },
  {
   "cell_type": "markdown",
   "metadata": {},
   "source": [
    "### autobatching\n",
    "See http://dynet.readthedocs.io/en/latest/minibatch.html#"
   ]
  },
  {
   "cell_type": "code",
   "execution_count": 19,
   "metadata": {
    "collapsed": true
   },
   "outputs": [],
   "source": [
    "dyparams = dy.DynetParams()\n",
    "dyparams.set_autobatch(True)\n",
    "dyparams.set_random_seed(1978)\n",
    "dyparams.init()"
   ]
  },
  {
   "cell_type": "markdown",
   "metadata": {},
   "source": [
    "#### one `epoch`"
   ]
  },
  {
   "cell_type": "code",
   "execution_count": 20,
   "metadata": {
    "collapsed": true
   },
   "outputs": [],
   "source": [
    "# store original values of W (for comparison)\n",
    "original_W = dy.parameter(pW).npvalue()\n",
    "# begin a clean computational graph\n",
    "dy.renew_cg()\n",
    "# initialize list to capture individual losses\n",
    "losses = []"
   ]
  },
  {
   "cell_type": "code",
   "execution_count": 21,
   "metadata": {
    "collapsed": true
   },
   "outputs": [],
   "source": [
    "# iterate through the dataset\n",
    "for i in range(trainX.shape[0]):\n",
    "    # prepare input\n",
    "    x = np.expand_dims(trainX[i], axis=0)   # must make it a vector with dimensions (1 x voc_size)\n",
    "    # prepare output\n",
    "    y = dy.scalarInput(trainY[i])\n",
    "    # make a forward pass\n",
    "    pred = forward_pass(x)\n",
    "    # calculate loss for each example\n",
    "    loss = dy.binary_log_loss(pred, y) \n",
    "    losses.append(loss)"
   ]
  },
  {
   "cell_type": "code",
   "execution_count": 22,
   "metadata": {
    "collapsed": true
   },
   "outputs": [],
   "source": [
    "# get total loss for dataset\n",
    "total_loss = dy.esum(losses)\n",
    "# apply the calculations of the computational graph\n",
    "total_loss.forward()\n",
    "# calculate loss to backpropogate\n",
    "total_loss.backward()\n",
    "# update parameters with backpropogated error\n",
    "trainer.update()"
   ]
  },
  {
   "cell_type": "code",
   "execution_count": 23,
   "metadata": {},
   "outputs": [
    {
     "name": "stdout",
     "output_type": "stream",
     "text": [
      "change in W parameter values: 0.04980689813601202\n"
     ]
    }
   ],
   "source": [
    "# confirm that parameters updated\n",
    "dy.renew_cg()\n",
    "print(\"change in W parameter values: {}\".format(\n",
    "    np.sum(original_W - dy.parameter(pW).npvalue())\n",
    "))"
   ]
  },
  {
   "cell_type": "markdown",
   "metadata": {},
   "source": [
    "### testing"
   ]
  },
  {
   "cell_type": "markdown",
   "metadata": {},
   "source": [
    "#### make a single prediction"
   ]
  },
  {
   "cell_type": "code",
   "execution_count": 24,
   "metadata": {},
   "outputs": [
    {
     "name": "stdout",
     "output_type": "stream",
     "text": [
      "0.9980331063270569\n"
     ]
    }
   ],
   "source": [
    "pred = forward_pass(np.expand_dims(testX[0], axis=0))\n",
    "print(pred.value())"
   ]
  },
  {
   "cell_type": "markdown",
   "metadata": {},
   "source": [
    "#### get predictions on entire test set"
   ]
  },
  {
   "cell_type": "code",
   "execution_count": 25,
   "metadata": {
    "collapsed": true
   },
   "outputs": [],
   "source": [
    "all_preds = []\n",
    "dy.renew_cg()\n",
    "for i in range(testX.shape[0]):\n",
    "    x = np.expand_dims(testX[i], axis=0)\n",
    "    pred = forward_pass(x)\n",
    "    all_preds.append(pred.value())\n",
    "original_preds = all_preds"
   ]
  },
  {
   "cell_type": "code",
   "execution_count": 26,
   "metadata": {},
   "outputs": [
    {
     "name": "stdout",
     "output_type": "stream",
     "text": [
      "[0.9980331063270569, 0.9980347156524658, 0.9980437159538269, 0.9980668425559998, 0.9980653524398804, 0.9980339407920837, 0.9980640411376953, 0.9980395436286926, 0.9980878233909607, 0.9980855584144592, 0.998067319393158, 0.9980345368385315, 0.998045802116394, 0.998033881187439, 0.9980377554893494, 0.9980354905128479, 0.9980818033218384, 0.9980711340904236, 0.9980419874191284, 0.9980369806289673, 0.9980584383010864, 0.9980646967887878, 0.9980259537696838, 0.998080849647522, 0.9980483651161194, 0.998010516166687, 0.9980323314666748, 0.9980414509773254, 0.9980112910270691, 0.9980468153953552, 0.9980159997940063, 0.9980151057243347, 0.9980452656745911, 0.9980307817459106, 0.9980577826499939, 0.9980425834655762, 0.9980545043945312, 0.9980366826057434, 0.9980469942092896, 0.9980255365371704, 0.9980619549751282, 0.9980195164680481, 0.9980536103248596, 0.9980692267417908, 0.9980058670043945, 0.9980220198631287, 0.9980442523956299, 0.9980461001396179, 0.9980714917182922, 0.9980413913726807, 0.9980819821357727, 0.998045027256012, 0.9980856776237488, 0.9980028867721558, 0.9980521202087402, 0.9980538487434387, 0.9980223774909973, 0.9980202913284302, 0.9980440735816956, 0.9980587363243103, 0.9980233907699585, 0.9980637431144714, 0.9980433583259583, 0.9980509281158447, 0.9980289936065674, 0.9980412125587463, 0.998044490814209, 0.9980525970458984, 0.9980800151824951, 0.9980331659317017, 0.9980776309967041, 0.9980649352073669, 0.9980170726776123, 0.9980442523956299, 0.9980776309967041, 0.9980391263961792, 0.9980648756027222, 0.9980571269989014, 0.9980697631835938, 0.9980460405349731, 0.9980472326278687, 0.9980279803276062, 0.9980360269546509, 0.9980130791664124, 0.9980273842811584, 0.9980223774909973, 0.9980689883232117, 0.9980409741401672, 0.9980476498603821, 0.9980520009994507, 0.9980069398880005, 0.9980127811431885, 0.9980448484420776, 0.998066246509552, 0.9980825781822205, 0.9980806708335876, 0.998051106929779, 0.9980927109718323, 0.9980099201202393, 0.9980452060699463, 0.9980484843254089, 0.9980533123016357, 0.9980552792549133, 0.9980241656303406, 0.9980915188789368]\n"
     ]
    }
   ],
   "source": [
    "print(original_preds)"
   ]
  },
  {
   "cell_type": "code",
   "execution_count": 27,
   "metadata": {
    "collapsed": true
   },
   "outputs": [],
   "source": [
    "def check_score(pred, true_y):\n",
    "    # convert pred to hard label\n",
    "    label = 1 if pred >= 0.5 else 0\n",
    "    # compare to true_y\n",
    "    return 1 if label == true_y else 0"
   ]
  },
  {
   "cell_type": "code",
   "execution_count": 28,
   "metadata": {
    "collapsed": true
   },
   "outputs": [],
   "source": [
    "def get_accuracy(list_of_scores):\n",
    "    return float(sum(list_of_scores) / len(list_of_scores))"
   ]
  },
  {
   "cell_type": "code",
   "execution_count": 29,
   "metadata": {},
   "outputs": [
    {
     "data": {
      "text/plain": [
       "0.5333333333333333"
      ]
     },
     "execution_count": 29,
     "metadata": {},
     "output_type": "execute_result"
    }
   ],
   "source": [
    "accuracy = get_accuracy([check_score(p, y) for p,y in zip(all_preds, list(testY))])\n",
    "accuracy"
   ]
  },
  {
   "cell_type": "markdown",
   "metadata": {},
   "source": [
    "### multiple epochs and minibatches"
   ]
  },
  {
   "cell_type": "code",
   "execution_count": 30,
   "metadata": {},
   "outputs": [
    {
     "data": {
      "text/plain": [
       "8"
      ]
     },
     "execution_count": 30,
     "metadata": {},
     "output_type": "execute_result"
    }
   ],
   "source": [
    "num_epochs = 800\n",
    "batch_size = 128\n",
    "num_batches = int(np.ceil(trainX.shape[0] / batch_size))\n",
    "num_batches"
   ]
  },
  {
   "cell_type": "code",
   "execution_count": 31,
   "metadata": {
    "collapsed": true
   },
   "outputs": [],
   "source": [
    "# bookeeping\n",
    "original_W = dy.parameter(pW).npvalue()\n",
    "epoch_losses = []\n",
    "all_accuracies = []"
   ]
  },
  {
   "cell_type": "code",
   "execution_count": 32,
   "metadata": {},
   "outputs": [
    {
     "name": "stdout",
     "output_type": "stream",
     "text": [
      "epoch 1\n",
      "epoch 101\n",
      "epoch 201\n",
      "epoch 301\n",
      "epoch 401\n",
      "epoch 501\n",
      "epoch 601\n",
      "epoch 701\n",
      "change in W parameter values: 5.578693352377741\n"
     ]
    }
   ],
   "source": [
    "# iterate through epochs\n",
    "for i in range(num_epochs):\n",
    "    epoch_loss = []\n",
    "    # reporting\n",
    "    if i % 100 == 0:\n",
    "        print(\"epoch {}\".format(i+1))\n",
    "    # shuffle dataset\n",
    "    np.random.seed(i)\n",
    "    np.random.shuffle(trainX)\n",
    "    np.random.seed(i)           # make sure to reset seed again to keep labels and data together!\n",
    "    np.random.shuffle(trainY)\n",
    "    # iterate through batches\n",
    "    for j in range(num_batches):\n",
    "        # begin a clean computational graph *at beginning of each batch*\n",
    "        dy.renew_cg()\n",
    "        losses = []\n",
    "        # build the batch\n",
    "        batchX = trainX[j*batch_size:(j+1)*batch_size]\n",
    "        batchY = trainY[j*batch_size:(j+1)*batch_size]\n",
    "        # iterate through the batch\n",
    "        for k in range(batchX.shape[0]):\n",
    "            # prepare input\n",
    "            x = np.expand_dims(batchX[k], axis=0)\n",
    "            # prepare output\n",
    "            y = dy.scalarInput(batchY[k])\n",
    "            # make a forward pass\n",
    "            pred = forward_pass(x)\n",
    "            # calculate loss for each example\n",
    "            loss = dy.binary_log_loss(pred, y)  \n",
    "            losses.append(loss)\n",
    "        # get total loss for batch\n",
    "        total_loss = dy.esum(losses)\n",
    "        # apply the calculations of the computational graph\n",
    "        total_loss.forward()\n",
    "        # calculate loss to backpropogate\n",
    "        total_loss.backward()\n",
    "        # update parameters with backpropogated error\n",
    "        trainer.update()\n",
    "        # record batch loss\n",
    "        epoch_loss.append(total_loss.npvalue())\n",
    "    # record epoch loss\n",
    "    epoch_losses.append(np.sum(epoch_loss))\n",
    "    # check performance on test set\n",
    "    all_preds = []\n",
    "    dy.renew_cg()\n",
    "    for i in range(testX.shape[0]):\n",
    "        x = np.expand_dims(testX[i], axis=0)\n",
    "        pred = forward_pass(x)\n",
    "        all_preds.append(pred.value())\n",
    "    accuracy = get_accuracy([check_score(p, y) for p,y in zip(all_preds, list(testY))])\n",
    "    all_accuracies.append(accuracy)\n",
    "# confirm that parameters updated\n",
    "dy.renew_cg()\n",
    "print(\"change in W parameter values: {}\".format(\n",
    "    np.sum(original_W - dy.parameter(pW).npvalue())\n",
    "))"
   ]
  },
  {
   "cell_type": "markdown",
   "metadata": {},
   "source": [
    "### visualize loss and accuracy"
   ]
  },
  {
   "cell_type": "code",
   "execution_count": 33,
   "metadata": {},
   "outputs": [
    {
     "data": {
      "image/png": "[encoded data removed]",
      "text/plain": [
       "<matplotlib.figure.Figure at 0x13c5b0eb8>"
      ]
     },
     "metadata": {},
     "output_type": "display_data"
    }
   ],
   "source": [
    "import matplotlib.pyplot as plt\n",
    "plt.plot(epoch_losses)\n",
    "plt.show()"
   ]
  },
  {
   "cell_type": "code",
   "execution_count": 34,
   "metadata": {},
   "outputs": [
    {
     "data": {
      "image/png": "[encoded data removed]",
      "text/plain": [
       "<matplotlib.figure.Figure at 0x12e04a438>"
      ]
     },
     "metadata": {},
     "output_type": "display_data"
    }
   ],
   "source": [
    "plt.plot(all_accuracies)\n",
    "plt.show()"
   ]
  },
  {
   "cell_type": "markdown",
   "metadata": {},
   "source": [
    "### testing"
   ]
  },
  {
   "cell_type": "code",
   "execution_count": 35,
   "metadata": {
    "collapsed": true
   },
   "outputs": [],
   "source": [
    "all_preds = []\n",
    "dy.renew_cg()\n",
    "for i in range(testX.shape[0]):\n",
    "    x = np.expand_dims(testX[i], axis=0)\n",
    "    pred = forward_pass(x)\n",
    "    all_preds.append(pred.value())"
   ]
  },
  {
   "cell_type": "code",
   "execution_count": 36,
   "metadata": {},
   "outputs": [
    {
     "data": {
      "text/plain": [
       "0.9238095238095239"
      ]
     },
     "execution_count": 36,
     "metadata": {},
     "output_type": "execute_result"
    }
   ],
   "source": [
    "accuracy = get_accuracy([check_score(p, y) for p,y in zip(all_preds, list(testY))])\n",
    "accuracy"
   ]
  }
 ],
 "metadata": {
  "kernelspec": {
   "display_name": "Python 3",
   "language": "python",
   "name": "python3"
  },
  "language_info": {
   "codemirror_mode": {
    "name": "ipython",
    "version": 3
   },
   "file_extension": ".py",
   "mimetype": "text/x-python",
   "name": "python",
   "nbconvert_exporter": "python",
   "pygments_lexer": "ipython3",
   "version": "3.6.2"
  },
  "widgets": {
   "application/vnd.jupyter.widget-state+json": {
    "state": {},
    "version_major": 1,
    "version_minor": 0
   }
  }
 },
 "nbformat": 4,
 "nbformat_minor": 2
}
