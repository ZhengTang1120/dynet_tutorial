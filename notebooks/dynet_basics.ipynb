{
 "cells": [
  {
   "cell_type": "code",
   "execution_count": 1,
   "metadata": {
    "collapsed": true
   },
   "outputs": [],
   "source": [
    "import dynet as dy\n",
    "import numpy as np"
   ]
  },
  {
   "cell_type": "markdown",
   "metadata": {},
   "source": [
    "# `dyNet` basics"
   ]
  },
  {
   "cell_type": "markdown",
   "metadata": {
    "collapsed": true
   },
   "source": [
    "## `dyNet` data structures\n",
    "\n",
    "At it's basic level, `dyNet` is utilizing `tensor`s (multidimensional structures)."
   ]
  },
  {
   "cell_type": "markdown",
   "metadata": {},
   "source": [
    "![tensors](images/tensors.png)"
   ]
  },
  {
   "cell_type": "code",
   "execution_count": 2,
   "metadata": {
    "collapsed": true
   },
   "outputs": [],
   "source": [
    "# scalar\n",
    "sample_scalar = dy.scalarInput(5)"
   ]
  },
  {
   "cell_type": "code",
   "execution_count": 3,
   "metadata": {
    "collapsed": true
   },
   "outputs": [],
   "source": [
    "# vector (1 x 5)\n",
    "sample_vector = dy.inputTensor(\n",
    "    [1,2,3,4,5]\n",
    ")"
   ]
  },
  {
   "cell_type": "code",
   "execution_count": 4,
   "metadata": {
    "collapsed": true
   },
   "outputs": [],
   "source": [
    "# matrix (2 x 5)\n",
    "sample_matrix = dy.inputTensor(\n",
    "    [\n",
    "        [1,2,3,4,5],\n",
    "        [6,7,8,9,10]\n",
    "    ]\n",
    ")"
   ]
  },
  {
   "cell_type": "code",
   "execution_count": 5,
   "metadata": {
    "collapsed": true
   },
   "outputs": [],
   "source": [
    "# 3-d tensor (2 X 2 x 5)\n",
    "sample_tensor = dy.inputTensor(\n",
    "    [\n",
    "        [\n",
    "            [1,3,5,7,9],\n",
    "            [2,4,6,8,10]\n",
    "        ],\n",
    "        [\n",
    "            [11,13,15,17,19],\n",
    "            [12,14,16,18,20]\n",
    "        ]\n",
    "    ]\n",
    ")"
   ]
  },
  {
   "cell_type": "markdown",
   "metadata": {},
   "source": [
    "## computational graphs\n",
    "\n",
    "`dynet`, like many other popular packages out there (`tensorflow`, `pytorch`, `mxnet`, `chainer`), is a **computational graph** library.\n",
    "\n",
    "You build a `directed graph` of computations you'd like to make, and then they are executed all at once.\n"
   ]
  },
  {
   "cell_type": "markdown",
   "metadata": {},
   "source": [
    "### `dyNet` expressions\n",
    "\n",
    "And so, everything (even the `tensor`s we made above) in `dyNet` is made into an `expression`."
   ]
  },
  {
   "cell_type": "code",
   "execution_count": 6,
   "metadata": {},
   "outputs": [
    {
     "name": "stdout",
     "output_type": "stream",
     "text": [
      "<class '_dynet._inputExpression'>\n",
      "<class '_dynet._inputExpression'>\n",
      "<class '_dynet._inputExpression'>\n"
     ]
    }
   ],
   "source": [
    "for i in [sample_scalar, sample_matrix, sample_tensor]:\n",
    "          print(type(sample_scalar))"
   ]
  },
  {
   "cell_type": "markdown",
   "metadata": {},
   "source": [
    "To **access** the values of the `tensor`s, we use the methods `.value()` and  `.npvalue()`:\n",
    "\n",
    " - `.value()` will return it as a `python` data structure\n",
    " - `.npvalue()` will return it as a `numpy` data structure"
   ]
  },
  {
   "cell_type": "markdown",
   "metadata": {},
   "source": [
    "#### `scalar`s"
   ]
  },
  {
   "cell_type": "code",
   "execution_count": 7,
   "metadata": {},
   "outputs": [
    {
     "data": {
      "text/plain": [
       "5.0"
      ]
     },
     "execution_count": 7,
     "metadata": {},
     "output_type": "execute_result"
    }
   ],
   "source": [
    "sample_scalar.value()"
   ]
  },
  {
   "cell_type": "code",
   "execution_count": 8,
   "metadata": {},
   "outputs": [
    {
     "data": {
      "text/plain": [
       "array([ 5.])"
      ]
     },
     "execution_count": 8,
     "metadata": {},
     "output_type": "execute_result"
    }
   ],
   "source": [
    "sample_scalar.npvalue()"
   ]
  },
  {
   "cell_type": "code",
   "execution_count": 9,
   "metadata": {},
   "outputs": [
    {
     "data": {
      "text/plain": [
       "(1,)"
      ]
     },
     "execution_count": 9,
     "metadata": {},
     "output_type": "execute_result"
    }
   ],
   "source": [
    "sample_scalar.npvalue().shape"
   ]
  },
  {
   "cell_type": "markdown",
   "metadata": {},
   "source": [
    "#### `tensor`s"
   ]
  },
  {
   "cell_type": "code",
   "execution_count": 10,
   "metadata": {},
   "outputs": [
    {
     "data": {
      "text/plain": [
       "[1.0, 2.0, 3.0, 4.0, 5.0]"
      ]
     },
     "execution_count": 10,
     "metadata": {},
     "output_type": "execute_result"
    }
   ],
   "source": [
    "sample_vector.value()"
   ]
  },
  {
   "cell_type": "code",
   "execution_count": 11,
   "metadata": {},
   "outputs": [
    {
     "data": {
      "text/plain": [
       "array([ 1.,  2.,  3.,  4.,  5.])"
      ]
     },
     "execution_count": 11,
     "metadata": {},
     "output_type": "execute_result"
    }
   ],
   "source": [
    "sample_vector.npvalue()"
   ]
  },
  {
   "cell_type": "code",
   "execution_count": 12,
   "metadata": {},
   "outputs": [
    {
     "data": {
      "text/plain": [
       "(5,)"
      ]
     },
     "execution_count": 12,
     "metadata": {},
     "output_type": "execute_result"
    }
   ],
   "source": [
    "sample_vector.npvalue().shape"
   ]
  },
  {
   "cell_type": "code",
   "execution_count": 13,
   "metadata": {},
   "outputs": [
    {
     "data": {
      "text/plain": [
       "(2, 5)"
      ]
     },
     "execution_count": 13,
     "metadata": {},
     "output_type": "execute_result"
    }
   ],
   "source": [
    "sample_matrix.npvalue().shape"
   ]
  },
  {
   "cell_type": "code",
   "execution_count": 14,
   "metadata": {},
   "outputs": [
    {
     "data": {
      "text/plain": [
       "(2, 2, 5)"
      ]
     },
     "execution_count": 14,
     "metadata": {},
     "output_type": "execute_result"
    }
   ],
   "source": [
    "sample_tensor.npvalue().shape"
   ]
  },
  {
   "cell_type": "markdown",
   "metadata": {},
   "source": [
    "#### other `expression`s"
   ]
  },
  {
   "cell_type": "markdown",
   "metadata": {},
   "source": [
    "`expression`s can also be computations on our data structures..."
   ]
  },
  {
   "cell_type": "code",
   "execution_count": 15,
   "metadata": {
    "collapsed": true
   },
   "outputs": [],
   "source": [
    "# elementwise addition on a vector\n",
    "add_expression = sample_vector + 5"
   ]
  },
  {
   "cell_type": "markdown",
   "metadata": {},
   "source": [
    "...and even computations on other `expression`s."
   ]
  },
  {
   "cell_type": "code",
   "execution_count": 16,
   "metadata": {
    "collapsed": true
   },
   "outputs": [],
   "source": [
    "# elementwise multiplication on the resulting vector above\n",
    "mult_expression = add_expression * 3"
   ]
  },
  {
   "cell_type": "markdown",
   "metadata": {},
   "source": [
    "The calculations of an `expression` are not carried out **until** you call `.value()` or `.npvalue()`"
   ]
  },
  {
   "cell_type": "code",
   "execution_count": 17,
   "metadata": {},
   "outputs": [
    {
     "data": {
      "text/plain": [
       "array([ 1.,  2.,  3.,  4.,  5.])"
      ]
     },
     "execution_count": 17,
     "metadata": {},
     "output_type": "execute_result"
    }
   ],
   "source": [
    "# step 1: the vector\n",
    "sample_vector.npvalue()"
   ]
  },
  {
   "cell_type": "code",
   "execution_count": 18,
   "metadata": {},
   "outputs": [
    {
     "data": {
      "text/plain": [
       "array([  6.,   7.,   8.,   9.,  10.])"
      ]
     },
     "execution_count": 18,
     "metadata": {},
     "output_type": "execute_result"
    }
   ],
   "source": [
    "# step 2: elementwise addition\n",
    "add_expression.npvalue()"
   ]
  },
  {
   "cell_type": "code",
   "execution_count": 19,
   "metadata": {},
   "outputs": [
    {
     "data": {
      "text/plain": [
       "array([ 18.,  21.,  24.,  27.,  30.])"
      ]
     },
     "execution_count": 19,
     "metadata": {},
     "output_type": "execute_result"
    }
   ],
   "source": [
    "# step 3: elementwise multiplication\n",
    "mult_expression.npvalue()"
   ]
  },
  {
   "cell_type": "markdown",
   "metadata": {},
   "source": [
    "![viz](images/graph_viz.jpg)"
   ]
  },
  {
   "cell_type": "markdown",
   "metadata": {},
   "source": [
    "### \"dynamic\" computational graph"
   ]
  },
  {
   "cell_type": "code",
   "execution_count": 23,
   "metadata": {},
   "outputs": [
    {
     "name": "stdout",
     "output_type": "stream",
     "text": [
      "data point 1\n",
      "starting vector [ 5.  5.  5.  5.  5.]\n",
      "multiplying by 0 [ 0.  0.  0.  0.  0.]\n",
      "-------\n",
      "data point 2\n",
      "starting vector [ 6.  6.  6.  6.  6.  6.]\n",
      "multiplying by 1 [ 6.  6.  6.  6.  6.  6.]\n",
      "-------\n",
      "data point 3\n",
      "starting vector [ 7.  7.  7.  7.  7.  7.  7.]\n",
      "multiplying by 2 [ 14.  14.  14.  14.  14.  14.  14.]\n",
      "-------\n",
      "data point 4\n",
      "starting vector [ 8.  8.  8.  8.  8.  8.  8.  8.]\n",
      "multiplying by 3 [ 24.  24.  24.  24.  24.  24.  24.  24.]\n",
      "-------\n"
     ]
    }
   ],
   "source": [
    "for i in range(4):\n",
    "    print(\"data point {}\".format(i + 1))\n",
    "    dy.renew_cg()\n",
    "    starting_vector = dy.inputTensor([i+5] * (i+5))\n",
    "    print(\"starting vector\", starting_vector.npvalue())\n",
    "    calculation = starting_vector * i\n",
    "    print(\"multiplying by {}\".format(i), calculation.npvalue())\n",
    "    print(\"-------\")"
   ]
  }
 ],
 "metadata": {
  "kernelspec": {
   "display_name": "Python 3",
   "language": "python",
   "name": "python3"
  },
  "language_info": {
   "codemirror_mode": {
    "name": "ipython",
    "version": 3
   },
   "file_extension": ".py",
   "mimetype": "text/x-python",
   "name": "python",
   "nbconvert_exporter": "python",
   "pygments_lexer": "ipython3",
   "version": "3.6.2"
  }
 },
 "nbformat": 4,
 "nbformat_minor": 2
}
