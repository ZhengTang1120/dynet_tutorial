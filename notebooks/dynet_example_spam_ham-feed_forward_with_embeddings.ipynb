{
 "cells": [
  {
   "cell_type": "code",
   "execution_count": 1,
   "metadata": {
    "collapsed": true
   },
   "outputs": [],
   "source": [
    "import numpy as np\n",
    "import dynet_config\n",
    "dynet_config.set(\n",
    "    mem=2048,          # can probably get away with 1024\n",
    "    autobatch=True,    # utilize autobatching\n",
    "    random_seed=1978   # simply for reproducibility here\n",
    ")\n",
    "import dynet as dy\n",
    "from os import path\n",
    "import random"
   ]
  },
  {
   "cell_type": "markdown",
   "metadata": {},
   "source": [
    "# `dyNet` example: `spam` v. `ham`"
   ]
  },
  {
   "cell_type": "code",
   "execution_count": 2,
   "metadata": {},
   "outputs": [
    {
     "data": {
      "text/plain": [
       "2.0"
      ]
     },
     "execution_count": 2,
     "metadata": {},
     "output_type": "execute_result"
    }
   ],
   "source": [
    "dy.__version__"
   ]
  },
  {
   "cell_type": "markdown",
   "metadata": {},
   "source": [
    "## import features"
   ]
  },
  {
   "cell_type": "code",
   "execution_count": 3,
   "metadata": {
    "collapsed": true
   },
   "outputs": [],
   "source": [
    "import sys\n",
    "sys.path.append(\"..\")\n",
    "import utils as u"
   ]
  },
  {
   "cell_type": "code",
   "execution_count": 4,
   "metadata": {
    "collapsed": true
   },
   "outputs": [],
   "source": [
    "# change this string to match the path on your computer\n",
    "path_to_root = \"/Users/mcapizzi/Github/dynet_tutorial/\""
   ]
  },
  {
   "cell_type": "code",
   "execution_count": 5,
   "metadata": {},
   "outputs": [
    {
     "name": "stdout",
     "output_type": "stream",
     "text": [
      "loading training data; 1 == spam, 2 == ham\n",
      "loading dev data; 1 == spam, 2 == ham\n",
      "loading testing data; 1 == spam, 2 == ham\n"
     ]
    }
   ],
   "source": [
    "train_docs, train_labels, dev_docs, dev_labels, test_docs, test_labels = u.import_smsspam(path_to_root)"
   ]
  },
  {
   "cell_type": "code",
   "execution_count": 6,
   "metadata": {},
   "outputs": [
    {
     "data": {
      "text/plain": [
       "(3345, 3345)"
      ]
     },
     "execution_count": 6,
     "metadata": {},
     "output_type": "execute_result"
    }
   ],
   "source": [
    "len(train_docs), len(train_labels)"
   ]
  },
  {
   "cell_type": "code",
   "execution_count": 7,
   "metadata": {},
   "outputs": [
    {
     "data": {
      "text/plain": [
       "(1115, 1115)"
      ]
     },
     "execution_count": 7,
     "metadata": {},
     "output_type": "execute_result"
    }
   ],
   "source": [
    "len(dev_docs), len(dev_labels)"
   ]
  },
  {
   "cell_type": "code",
   "execution_count": 8,
   "metadata": {},
   "outputs": [
    {
     "data": {
      "text/plain": [
       "(1114, 1114)"
      ]
     },
     "execution_count": 8,
     "metadata": {},
     "output_type": "execute_result"
    }
   ],
   "source": [
    "len(test_docs), len(test_labels)"
   ]
  },
  {
   "cell_type": "markdown",
   "metadata": {},
   "source": [
    "The labels are either `1` or `0` where `1=Spam` and `0=Ham`"
   ]
  },
  {
   "cell_type": "code",
   "execution_count": 9,
   "metadata": {},
   "outputs": [
    {
     "data": {
      "text/plain": [
       "[1, 0, 0, 0, 0, 0, 0, 0, 0, 0, 0, 0, 0, 1, 0, 1, 0, 0, 0, 0]"
      ]
     },
     "execution_count": 9,
     "metadata": {},
     "output_type": "execute_result"
    }
   ],
   "source": [
    "test_labels[0:20]"
   ]
  },
  {
   "cell_type": "markdown",
   "metadata": {},
   "source": [
    "Right now, the \"features\" are still just raw documents"
   ]
  },
  {
   "cell_type": "code",
   "execution_count": 10,
   "metadata": {},
   "outputs": [
    {
     "name": "stdout",
     "output_type": "stream",
     "text": [
      "['Go', 'until', 'jurong', 'point,', 'crazy..', 'Available', 'only', 'in', 'bugis', 'n', 'great', 'world', 'la', 'e', 'buffet...', 'Cine', 'there', 'got', 'amore', 'wat...']\n",
      "['Ok', 'lar...', 'Joking', 'wif', 'u', 'oni...']\n",
      "['Free', 'entry', 'in', '2', 'a', 'wkly', 'comp', 'to', 'win', 'FA', 'Cup', 'final', 'tkts', '21st', 'May', '2005.', 'Text', 'FA', 'to', '87121', 'to', 'receive', 'entry', 'question(std', 'txt', \"rate)T&C's\", 'apply', \"08452810075over18's\"]\n"
     ]
    }
   ],
   "source": [
    "for i in range(3):\n",
    "    print(train_docs[i])"
   ]
  },
  {
   "cell_type": "markdown",
   "metadata": {},
   "source": [
    "## build architecture\n",
    "all images borrowed from here: http://u.cs.biu.ac.il/~yogo/nnlp.pdf (now a book!)"
   ]
  },
  {
   "cell_type": "markdown",
   "metadata": {},
   "source": [
    "![goldberg_nn](images/goldberg_ff.png)"
   ]
  },
  {
   "cell_type": "markdown",
   "metadata": {},
   "source": [
    "![goldberg_ff_math](images/goldberg_ff_math.png)"
   ]
  },
  {
   "cell_type": "markdown",
   "metadata": {},
   "source": [
    "### initialize empty model\n",
    "\n",
    "See http://dynet.readthedocs.io/en/latest/python_ref.html#parametercollection\n",
    "\n",
    "The first thing to be done is initialize the `ParameterCollection()` which will house all the parameters that will be updated during training."
   ]
  },
  {
   "cell_type": "code",
   "execution_count": 11,
   "metadata": {},
   "outputs": [
    {
     "data": {
      "text/plain": [
       "<_dynet.ParameterCollection at 0x1129acf60>"
      ]
     },
     "execution_count": 11,
     "metadata": {},
     "output_type": "execute_result"
    }
   ],
   "source": [
    "feed_forward_model = dy.ParameterCollection()   # used to be called dy.Model()\n",
    "feed_forward_model"
   ]
  },
  {
   "cell_type": "markdown",
   "metadata": {},
   "source": [
    "### embeddings"
   ]
  },
  {
   "cell_type": "markdown",
   "metadata": {},
   "source": [
    "We are going to turn each document into an *average* of the embeddings for each word.  In order to do that, we have two choices:\n",
    " 1. ...randomly initialize the word embeddings.\n",
    " 2. ...load some pretrained word embeddings.  "
   ]
  },
  {
   "cell_type": "markdown",
   "metadata": {},
   "source": [
    "#### randomly initialized embeddings"
   ]
  },
  {
   "cell_type": "markdown",
   "metadata": {},
   "source": [
    "The `embedding matrix` will be of size `size_vocabulary x embedding_dim` where the $i^{th}$ row of the matrix is the embedding vector for the $i^{th}$ indexed word.\n",
    "\n",
    "So first we'll need to build the `word-2-index` lookup table of all the words in the vocabulary."
   ]
  },
  {
   "cell_type": "code",
   "execution_count": 12,
   "metadata": {},
   "outputs": [
    {
     "data": {
      "text/plain": [
       "160"
      ]
     },
     "execution_count": 12,
     "metadata": {},
     "output_type": "execute_result"
    }
   ],
   "source": [
    "w2i_random = u.build_w2i_lookup(train_docs)\n",
    "w2i_random[\"the\"]"
   ]
  },
  {
   "cell_type": "markdown",
   "metadata": {},
   "source": [
    "#### pretrained embeddings\n",
    "The embeddings we'll use are from this paper: https://levyomer.files.wordpress.com/2014/04/dependency-based-word-embeddings-acl-2014.pdf <br>\n",
    "And can be downloaded here: https://levyomer.wordpress.com/2014/04/25/dependency-based-word-embeddings/\n",
    "\n",
    "In *most* cases, these vectors are ordered by frequency, so we can safely take the `top n` words to save some computation. "
   ]
  },
  {
   "cell_type": "code",
   "execution_count": 13,
   "metadata": {
    "collapsed": true
   },
   "outputs": [],
   "source": [
    "emb_matrix_pretrained, w2i_pretrained = u.load_pretrained_embeddings(\n",
    "    path.join(path_to_root, \"pretrained_embeddings.txt\"), \n",
    "    take=5000\n",
    ")"
   ]
  },
  {
   "cell_type": "markdown",
   "metadata": {},
   "source": [
    "We now have (1) an `embedding matrix` of size `num_words x embedding_dim` and (2) a `word-2-index` lookup table.  "
   ]
  },
  {
   "cell_type": "code",
   "execution_count": 14,
   "metadata": {},
   "outputs": [
    {
     "name": "stdout",
     "output_type": "stream",
     "text": [
      "embedding matrix shape: (5001, 300)\n",
      "index for 'the': 1\n"
     ]
    }
   ],
   "source": [
    "print(\"embedding matrix shape: {}\".format(emb_matrix_pretrained.shape))\n",
    "print(\"index for '{}': {}\".format(\"the\", w2i_pretrained[\"the\"]))"
   ]
  },
  {
   "cell_type": "markdown",
   "metadata": {},
   "source": [
    "Now let's build the actual `dyNet` parameters for the embeddings.  These *will* be updated during training, which will lead to \"catered\" embeddings specialized for our `spam/ham` task."
   ]
  },
  {
   "cell_type": "code",
   "execution_count": 15,
   "metadata": {
    "collapsed": true
   },
   "outputs": [],
   "source": [
    "###### CHOOSE HERE which approach you want to use. ######\n",
    "embedding_approach, embedding_dim = \"pretrained\", emb_matrix_pretrained.shape[1]\n",
    "# embedding_approach, embedding_dim = \"random\", 300"
   ]
  },
  {
   "cell_type": "code",
   "execution_count": 16,
   "metadata": {},
   "outputs": [
    {
     "data": {
      "text/plain": [
       "(300, 5001)"
      ]
     },
     "execution_count": 16,
     "metadata": {},
     "output_type": "execute_result"
    }
   ],
   "source": [
    "if embedding_approach == \"pretrained\":\n",
    "    embedding_parameters = feed_forward_model.lookup_parameters_from_numpy(emb_matrix_pretrained)\n",
    "    w2i = w2i_pretrained    # ensure we use the correct lookup table\n",
    "elif embedding_approach == \"random\":\n",
    "    embedding_parameters = feed_forward_model.add_lookup_parameters((len(w2i_random)+1, embedding_dim))\n",
    "    w2i = w2i_random        # ensure we use the correct lookup table\n",
    "else:\n",
    "    raise Exception(\"you chose poorly...\")\n",
    "dy.parameter(embedding_parameters).npvalue().shape"
   ]
  },
  {
   "cell_type": "markdown",
   "metadata": {},
   "source": [
    "### input size\n",
    "\n",
    "To generate our input, we'll be taking the average word embedding for all words in the document.  So it's size will be equal to the dimension of our word embeddings."
   ]
  },
  {
   "cell_type": "code",
   "execution_count": 17,
   "metadata": {},
   "outputs": [
    {
     "data": {
      "text/plain": [
       "300"
      ]
     },
     "execution_count": 17,
     "metadata": {},
     "output_type": "execute_result"
    }
   ],
   "source": [
    "input_size = embedding_dim\n",
    "input_size"
   ]
  },
  {
   "cell_type": "markdown",
   "metadata": {},
   "source": [
    "### hidden dimension\n",
    "\n",
    "You still have a decision on what size you want the `hidden` layer to be.\n",
    "\n",
    "![goldberg_math_simple](images/goldberg_ff_math_simple.png)"
   ]
  },
  {
   "cell_type": "code",
   "execution_count": 18,
   "metadata": {
    "collapsed": true
   },
   "outputs": [],
   "source": [
    "################\n",
    "# HYPERPARAMETER\n",
    "################\n",
    "# size of hidden layer\n",
    "hidden_size = 200"
   ]
  },
  {
   "cell_type": "markdown",
   "metadata": {},
   "source": [
    "#### paramater `initializer`\n",
    "See http://dynet.readthedocs.io/en/latest/python_ref.html#parameters-initializers\n",
    "\n",
    "Next we need to \"initialize\" the parameter values.  `GlorotInitializer` is a pretty standard approach *however* the `gain` parameter depends on the type of `activation` being used."
   ]
  },
  {
   "cell_type": "code",
   "execution_count": 19,
   "metadata": {
    "collapsed": true
   },
   "outputs": [],
   "source": [
    "################\n",
    "# HYPERPARAMETER\n",
    "################\n",
    "initializer = dy.GlorotInitializer(gain=4.0)"
   ]
  },
  {
   "cell_type": "markdown",
   "metadata": {},
   "source": [
    "You'll notice that the objects are `_dynet.Parameters` and *not* `expressions` until you \"wrap\" them with `dy.parameter()`"
   ]
  },
  {
   "cell_type": "code",
   "execution_count": 20,
   "metadata": {},
   "outputs": [
    {
     "data": {
      "text/plain": [
       "(_dynet.Parameters, _dynet.Expression)"
      ]
     },
     "execution_count": 20,
     "metadata": {},
     "output_type": "execute_result"
    }
   ],
   "source": [
    "# W_1 (input x hidden) as a Parameters object\n",
    "pW_1 = feed_forward_model.add_parameters(\n",
    "    (input_size, hidden_size),\n",
    "    init=initializer\n",
    ")\n",
    "type(pW_1), type(dy.parameter(pW_1))"
   ]
  },
  {
   "cell_type": "code",
   "execution_count": 21,
   "metadata": {},
   "outputs": [
    {
     "data": {
      "text/plain": [
       "(300, 200)"
      ]
     },
     "execution_count": 21,
     "metadata": {},
     "output_type": "execute_result"
    }
   ],
   "source": [
    "# check the shape of the Expression\n",
    "dy.parameter(pW_1).npvalue().shape"
   ]
  },
  {
   "cell_type": "code",
   "execution_count": 22,
   "metadata": {},
   "outputs": [
    {
     "data": {
      "text/plain": [
       "(1, 200)"
      ]
     },
     "execution_count": 22,
     "metadata": {},
     "output_type": "execute_result"
    }
   ],
   "source": [
    "# b_1 (1 x hidden) as a Parameters object\n",
    "pb_1 = feed_forward_model.add_parameters(\n",
    "    (1, hidden_size),\n",
    "    init=initializer\n",
    ")\n",
    "# check the shape\n",
    "dy.parameter(pb_1).npvalue().shape"
   ]
  },
  {
   "cell_type": "code",
   "execution_count": 23,
   "metadata": {},
   "outputs": [
    {
     "data": {
      "text/plain": [
       "(200, 1)"
      ]
     },
     "execution_count": 23,
     "metadata": {},
     "output_type": "execute_result"
    }
   ],
   "source": [
    "# W_2 (hidden x output) as a Parameters object\n",
    "pW_2 = feed_forward_model.add_parameters(\n",
    "    (hidden_size, 1),\n",
    "    init=initializer\n",
    ")\n",
    "# check the shape\n",
    "dy.parameter(pW_2).npvalue().shape"
   ]
  },
  {
   "cell_type": "code",
   "execution_count": 24,
   "metadata": {},
   "outputs": [
    {
     "data": {
      "text/plain": [
       "(1, 1)"
      ]
     },
     "execution_count": 24,
     "metadata": {},
     "output_type": "execute_result"
    }
   ],
   "source": [
    "# b_2 (1 x output) as a Paramters object\n",
    "pb_2 = feed_forward_model.add_parameters(\n",
    "    (1, 1),\n",
    "    init=initializer\n",
    ")\n",
    "# check the shape\n",
    "dy.parameter(pb_2).npvalue().shape"
   ]
  },
  {
   "cell_type": "markdown",
   "metadata": {},
   "source": [
    "### converting words to indexes\n",
    "\n",
    "In order to access the word embedding for a given word, we need to know its `index` from our `word2index` lookup table."
   ]
  },
  {
   "cell_type": "code",
   "execution_count": 25,
   "metadata": {
    "collapsed": true
   },
   "outputs": [],
   "source": [
    "def words2indexes(seq_of_words, w2i_lookup):\n",
    "    \"\"\"\n",
    "    This function converts our document into a sequence of indexes that correspond to the rows in our embedding matrix\n",
    "    :param seq_of_words: the document as a <list> of words\n",
    "    :param w2i_lookup: the lookup table of {word:index} that we built earlier\n",
    "    \"\"\"\n",
    "    seq_of_idxs = []\n",
    "    for w in seq_of_words:\n",
    "        w = w.lower()            # lowercase\n",
    "        i = w2i_lookup.get(w, 0) # we use the .get() method to allow for default return value if the word is not found\n",
    "                                 # we've reserved the 0th row of embedding matrix for out-of-vocabulary words\n",
    "        seq_of_idxs.append(i)\n",
    "    return seq_of_idxs"
   ]
  },
  {
   "cell_type": "code",
   "execution_count": 26,
   "metadata": {},
   "outputs": [
    {
     "data": {
      "text/plain": [
       "[29, 330, 0]"
      ]
     },
     "execution_count": 26,
     "metadata": {},
     "output_type": "execute_result"
    }
   ],
   "source": [
    "sample_idxs = words2indexes([\"I\", \"like\", \"armadillos\"], w2i)\n",
    "sample_idxs"
   ]
  },
  {
   "cell_type": "code",
   "execution_count": 27,
   "metadata": {
    "collapsed": true
   },
   "outputs": [],
   "source": [
    "def get_average_embedding(seq_of_idxs):\n",
    "    \"\"\"\n",
    "    This function will take a sequence of indexes (which represents each of the words in our document) \n",
    "    and will return an average embedding to now represent the document\n",
    "    :param seq_of_idxs: output of words2indexes()\n",
    "    \"\"\"\n",
    "    seq_of_embeddings = [embedding_parameters[i] for i in seq_of_idxs]   # embedding_parameters can be used like <dict>\n",
    "    average_embedding = dy.average(seq_of_embeddings)\n",
    "    return dy.reshape(average_embedding, (1,300))      # need to reshape to an explicit 1 x ??? vector"
   ]
  },
  {
   "cell_type": "code",
   "execution_count": 28,
   "metadata": {},
   "outputs": [
    {
     "data": {
      "text/plain": [
       "array([[  2.90775904e-03,   5.09412680e-03,   1.79931540e-02,\n",
       "         -3.60248461e-02,  -2.73635816e-02,   9.58728045e-03,\n",
       "         -2.32764576e-02,  -3.17369145e-03,   2.68593710e-02,\n",
       "         -6.22892985e-03,   2.44046245e-02,   4.14363248e-03,\n",
       "          7.23031815e-03,   3.16809834e-04,  -1.54533647e-02,\n",
       "         -2.47859117e-02,  -5.86350635e-02,  -5.79605959e-02,\n",
       "         -1.00360718e-02,   1.51551692e-02,  -3.78740542e-02,\n",
       "         -3.99237759e-02,   1.31739099e-02,  -4.71997671e-02,\n",
       "          6.86733797e-02,   5.29726222e-02,  -3.93233495e-03,\n",
       "          1.07182777e-02,   7.38620944e-03,  -2.43036561e-02,\n",
       "          1.10193091e-02,   8.02149996e-03,   6.36167591e-03,\n",
       "         -1.68125313e-02,  -2.90750396e-02,  -2.93785091e-02,\n",
       "          9.91539657e-03,   7.05230189e-03,  -1.45967472e-02,\n",
       "         -2.46045343e-03,  -1.30066145e-02,   2.21646810e-03,\n",
       "          1.33913625e-02,  -3.73893864e-02,  -8.10857303e-03,\n",
       "         -8.24909098e-03,   6.19452400e-03,   1.01481741e-02,\n",
       "         -2.80080661e-02,   2.35264320e-02,  -3.41688208e-02,\n",
       "         -3.24911736e-02,   3.13745700e-02,  -4.90015978e-03,\n",
       "          3.82968709e-02,   6.96148202e-02,   5.87880425e-02,\n",
       "         -5.57253622e-02,   2.17806012e-03,  -1.06687555e-02,\n",
       "         -1.82848480e-02,   6.04834780e-02,  -4.37608249e-02,\n",
       "         -1.99594852e-02,   4.43749204e-02,  -9.51655768e-03,\n",
       "         -2.19018031e-02,  -9.46418196e-03,   1.44491401e-02,\n",
       "          1.01515636e-01,  -6.11779187e-03,  -2.04110276e-02,\n",
       "         -4.40319255e-02,   4.90827151e-02,   6.83092400e-02,\n",
       "         -2.34445147e-02,   1.64032280e-02,  -2.21547838e-02,\n",
       "         -4.40540276e-02,  -4.97097857e-02,   3.41390520e-02,\n",
       "         -4.00401726e-02,   4.28937422e-03,   9.01962593e-02,\n",
       "         -1.35146342e-02,   1.77746136e-02,  -7.13342279e-02,\n",
       "          1.58586446e-02,   4.61300388e-02,  -9.31028463e-03,\n",
       "         -1.53002385e-02,  -7.30663631e-03,   2.14921217e-02,\n",
       "         -4.88284342e-02,   5.17409258e-02,   9.29683374e-05,\n",
       "          1.09877791e-02,  -3.34197246e-02,   4.06594612e-02,\n",
       "          4.87897499e-03,  -5.31036826e-03,  -4.96486202e-02,\n",
       "          3.14137749e-02,  -2.61447430e-02,  -3.84670384e-02,\n",
       "          1.39351247e-03,   2.04138514e-02,   3.82997096e-02,\n",
       "         -1.63889199e-03,  -2.09730100e-02,   3.89543697e-02,\n",
       "         -2.60281395e-02,   2.66721882e-02,  -2.11675130e-02,\n",
       "          3.52563187e-02,   5.87824993e-02,   1.90762095e-02,\n",
       "          3.06334533e-02,  -1.27131734e-05,   2.22691726e-02,\n",
       "         -2.20258739e-02,   7.70319030e-02,   1.26553820e-02,\n",
       "          2.45547723e-02,   6.20653061e-03,  -4.90248145e-04,\n",
       "         -3.44049074e-02,   3.51157077e-02,  -2.21067332e-02,\n",
       "          1.13432202e-02,  -3.21481787e-02,   3.42274234e-02,\n",
       "         -6.23090519e-03,   2.41607297e-02,   2.85092629e-02,\n",
       "          4.59605316e-03,   1.83126293e-02,   2.65176445e-02,\n",
       "          5.55326715e-02,  -5.34401508e-03,   2.09311359e-02,\n",
       "          2.19961051e-02,  -8.40069540e-03,   1.07106688e-02,\n",
       "          4.07135002e-02,   3.65184322e-02,  -6.50954572e-03,\n",
       "          1.54431835e-02,  -2.01786235e-02,  -1.29625043e-02,\n",
       "         -4.16993462e-02,   3.46573927e-02,   1.87441637e-03,\n",
       "          3.43130040e-03,   2.37990953e-02,   4.05881926e-02,\n",
       "          2.37626825e-02,  -4.44692858e-02,   1.87803935e-02,\n",
       "         -1.62800513e-02,  -6.74959226e-03,  -1.29106576e-02,\n",
       "         -4.31464203e-02,   2.26040017e-02,  -5.71512841e-02,\n",
       "         -6.38391599e-02,   4.75023054e-02,  -7.00024888e-03,\n",
       "         -4.44744341e-02,  -5.78781627e-02,   5.67141827e-03,\n",
       "          1.53620280e-02,  -2.20455993e-02,   1.33888749e-02,\n",
       "          1.37434225e-03,  -1.54334903e-02,   3.63672860e-02,\n",
       "         -6.18830277e-03,   2.93432400e-02,  -3.29973623e-02,\n",
       "         -4.38237237e-03,   4.13392819e-02,   3.94049473e-02,\n",
       "         -1.88259166e-02,   7.57896481e-03,   1.04343910e-02,\n",
       "         -3.02831735e-02,  -1.72880907e-02,   5.36063779e-03,\n",
       "         -8.99358932e-03,  -2.28473009e-03,   2.61364784e-02,\n",
       "          2.08498631e-02,   2.49715932e-02,  -1.10803088e-02,\n",
       "         -2.93133268e-03,  -1.08217467e-02,  -1.39115471e-02,\n",
       "          6.96156127e-03,  -2.20672432e-02,  -2.48958059e-02,\n",
       "         -5.03015285e-03,   2.20584739e-02,   3.06126326e-02,\n",
       "         -1.34700453e-02,  -4.80354652e-02,   3.32790576e-02,\n",
       "          4.47621830e-02,   3.85862924e-02,  -9.16179502e-04,\n",
       "          3.76771986e-02,  -1.38138710e-02,   6.91751912e-02,\n",
       "         -5.32510458e-03,  -1.69069301e-02,   4.41186205e-02,\n",
       "          5.51573858e-02,   1.23965899e-02,  -2.50469260e-02,\n",
       "         -2.51502804e-02,  -3.30511085e-03,   3.00031733e-02,\n",
       "         -4.85413186e-02,   8.83743633e-03,   2.60006473e-03,\n",
       "          2.31980179e-02,   5.32879345e-02,  -1.19831627e-02,\n",
       "         -2.67659053e-02,   4.99423482e-02,  -5.90601144e-03,\n",
       "         -7.98094738e-03,   9.31053050e-03,   3.02430056e-02,\n",
       "         -1.45708546e-02,   4.06350233e-02,   4.10543866e-02,\n",
       "          5.28826658e-03,   4.83789034e-02,   5.50229363e-02,\n",
       "          5.66909672e-04,   3.48752961e-02,  -6.50848597e-02,\n",
       "         -3.96603756e-02,  -1.46221686e-02,  -9.28695896e-04,\n",
       "          1.89040937e-02,  -1.55983008e-02,  -4.33103479e-02,\n",
       "         -3.33043747e-02,  -5.28359832e-03,  -1.39575070e-02,\n",
       "          1.41370799e-02,   3.50010581e-02,   1.56483296e-02,\n",
       "         -1.05361699e-03,  -1.36438105e-02,   1.81597639e-02,\n",
       "          3.27893309e-02,   7.35292770e-03,   6.09134603e-03,\n",
       "          2.64051370e-02,  -2.54044440e-02,   4.62970603e-03,\n",
       "         -2.45576557e-02,   5.48409969e-02,  -7.88947288e-03,\n",
       "         -4.61580865e-02,  -3.34200375e-02,  -7.95896649e-02,\n",
       "          2.60251621e-03,  -1.86587069e-02,   2.17001257e-03,\n",
       "         -5.06531186e-02,  -4.28558849e-02,   7.10756108e-02,\n",
       "         -1.58705972e-02,  -1.46887284e-02,  -4.60410397e-03,\n",
       "          2.51065679e-02,  -3.67219076e-02,  -4.13436778e-02,\n",
       "          2.33137340e-04,  -2.22048219e-02,   2.32957792e-03,\n",
       "         -1.77220150e-03,  -1.62478201e-02,  -1.57337524e-02,\n",
       "          1.42281025e-03,  -3.88116948e-02,   5.80941606e-03,\n",
       "          2.43134890e-02,   2.79452885e-03,  -3.94017063e-02,\n",
       "          3.20149735e-02,  -7.27569535e-02,  -1.40329944e-02,\n",
       "          4.86056097e-02,   1.21308183e-02,  -2.12807022e-03]])"
      ]
     },
     "execution_count": 28,
     "metadata": {},
     "output_type": "execute_result"
    }
   ],
   "source": [
    "sample_average_embedding = get_average_embedding(sample_idxs)\n",
    "sample_average_embedding.npvalue()"
   ]
  },
  {
   "cell_type": "markdown",
   "metadata": {},
   "source": [
    "### forward operations\n",
    "![goldberg_math_simple](images/goldberg_ff_math_simple.png)\n",
    "\n",
    "The only real choice is the type of `activation`.  See here for your choices: http://dynet.readthedocs.io/en/latest/operations.html"
   ]
  },
  {
   "cell_type": "code",
   "execution_count": 29,
   "metadata": {
    "collapsed": true
   },
   "outputs": [],
   "source": [
    "def forward_pass(x):\n",
    "    \"\"\"\n",
    "    This function will wrap all the steps of the forward pass\n",
    "    :param x: the average word embedding (output of get_average_embedding())\n",
    "    \"\"\"\n",
    "    # convert Parameters to Expressions\n",
    "    W_1 = dy.parameter(pW_1)\n",
    "    b_1 = dy.parameter(pb_1)\n",
    "    W_2 = dy.parameter(pW_2)\n",
    "    b_2 = dy.parameter(pb_2)\n",
    "    # calculate the first hidden layer\n",
    "    hidden = x * W_1 + b_1          \n",
    "    ################\n",
    "    # HYPERPARAMETER\n",
    "    ################\n",
    "    # calculate the sigmoid activation  (or RELU, SELU, ELU, tanh, etc...)\n",
    "    hidden_activation = dy.logistic(hidden)    \n",
    "    # calculate the output layer\n",
    "    output = hidden_activation * W_2 + b_2\n",
    "    # return the sigmoid of the output\n",
    "    return dy.logistic(output)"
   ]
  },
  {
   "cell_type": "markdown",
   "metadata": {},
   "source": [
    "### training"
   ]
  },
  {
   "cell_type": "markdown",
   "metadata": {},
   "source": [
    "#### initializing a `trainer`\n",
    "See http://dynet.readthedocs.io/en/latest/python_ref.html#optimizers\n",
    "\n",
    "This decision is a big one.  It relates to what \"optimizer\" will be used to update the parameters.  Here I've chosen a *very simple* `trainer`, however the default `learning_rate` is almost never a good one."
   ]
  },
  {
   "cell_type": "code",
   "execution_count": 30,
   "metadata": {
    "collapsed": true
   },
   "outputs": [],
   "source": [
    "################\n",
    "# HYPERPARAMETER\n",
    "################\n",
    "trainer = dy.SimpleSGDTrainer(\n",
    "    m=feed_forward_model,\n",
    "    learning_rate=0.01\n",
    ")"
   ]
  },
  {
   "cell_type": "markdown",
   "metadata": {},
   "source": [
    "### autobatching\n",
    "See http://dynet.readthedocs.io/en/latest/minibatch.html# <br>\n",
    "and the technical details here: https://arxiv.org/pdf/1705.07860.pdf\n",
    "\n",
    "This is one of the real advantages of `dyNet`.  It's \"overkill\" for this example, but will become hugely valuable when training `recurrent neural networks` (`RNNs`)."
   ]
  },
  {
   "cell_type": "code",
   "execution_count": 31,
   "metadata": {
    "collapsed": true
   },
   "outputs": [],
   "source": [
    "import dynet_config\n",
    "dynet_config.set(\n",
    "    mem=2048,          # can probably get away with 1024\n",
    "    autobatch=True,    # utilize autobatching\n",
    "    random_seed=1978   # simply for reproducibility here\n",
    ")\n",
    "import dynet as dy"
   ]
  },
  {
   "cell_type": "markdown",
   "metadata": {},
   "source": [
    "#### one `epoch`\n",
    "\n",
    "Let's walk through *one* epoch (where our model sees all of our data *one* time).\n",
    "\n",
    "The most important step is `dy.renew_cg()` which starts off a \"clean\" computational graph.\n"
   ]
  },
  {
   "cell_type": "code",
   "execution_count": 32,
   "metadata": {
    "collapsed": true
   },
   "outputs": [],
   "source": [
    "# store original values of W_1\n",
    "original_W1 = dy.parameter(pW_1).npvalue()\n",
    "# begin a clean computational graph\n",
    "dy.renew_cg()\n",
    "# initialize list to capture individual losses\n",
    "losses = []"
   ]
  },
  {
   "cell_type": "markdown",
   "metadata": {},
   "source": [
    "`autobatching` allows us to feed each datapoint in one at a time, and `dyNet` will figure out how to \"optimize\" the operations.  Let's iterate through our training data."
   ]
  },
  {
   "cell_type": "code",
   "execution_count": 33,
   "metadata": {
    "collapsed": true
   },
   "outputs": [],
   "source": [
    "# iterate through the dataset\n",
    "for i in range(len(train_docs)):\n",
    "    # prepare input: words to indexes\n",
    "    seq_of_idxs = words2indexes(train_docs[i], w2i)\n",
    "    # prepare input: average embedding\n",
    "    x = get_average_embedding(seq_of_idxs)\n",
    "    # reshape\n",
    "    # prepare output\n",
    "    y = dy.scalarInput(train_labels[i])\n",
    "    # make a forward pass\n",
    "    pred = forward_pass(x)\n",
    "    # calculate loss for each example\n",
    "    loss = dy.binary_log_loss(pred, y) \n",
    "    losses.append(loss)"
   ]
  },
  {
   "cell_type": "markdown",
   "metadata": {},
   "source": [
    "Now let's accumulate the loss and backpropogate it."
   ]
  },
  {
   "cell_type": "code",
   "execution_count": 34,
   "metadata": {},
   "outputs": [],
   "source": [
    "# get total loss for dataset\n",
    "total_loss = dy.esum(losses)\n",
    "# apply the calculations of the computational graph\n",
    "total_loss.forward()\n",
    "# calculate loss to backpropogate\n",
    "total_loss.backward()\n",
    "# update parameters with backpropogated error\n",
    "trainer.update()"
   ]
  },
  {
   "cell_type": "markdown",
   "metadata": {},
   "source": [
    "Let's make sure that our parameter `W_1` has been updated (e.g. it \"learned\" something)."
   ]
  },
  {
   "cell_type": "code",
   "execution_count": 35,
   "metadata": {},
   "outputs": [
    {
     "name": "stdout",
     "output_type": "stream",
     "text": [
      "change in W_1 parameter values: 0.0021902552966253097\n"
     ]
    }
   ],
   "source": [
    "# confirm that parameters updated\n",
    "dy.renew_cg()\n",
    "print(\"change in W_1 parameter values: {}\".format(\n",
    "    np.sum(original_W1 - dy.parameter(pW_1).npvalue())\n",
    "))"
   ]
  },
  {
   "cell_type": "markdown",
   "metadata": {},
   "source": [
    "### testing"
   ]
  },
  {
   "cell_type": "markdown",
   "metadata": {},
   "source": [
    "#### make a single prediction\n",
    "\n",
    "Let's see how our model does on a single document.  The `output` can be understood as the probability the document is `Spam`."
   ]
  },
  {
   "cell_type": "code",
   "execution_count": 36,
   "metadata": {},
   "outputs": [
    {
     "name": "stdout",
     "output_type": "stream",
     "text": [
      "0.9994034171104431\n"
     ]
    }
   ],
   "source": [
    "sample_pred = words2indexes(test_docs[0], w2i)\n",
    "sample_pred = get_average_embedding(sample_pred)\n",
    "pred = forward_pass(sample_pred)\n",
    "print(pred.value())"
   ]
  },
  {
   "cell_type": "markdown",
   "metadata": {},
   "source": [
    "#### get predictions on entire test set\n",
    "\n",
    "Let's look across the entire dataset."
   ]
  },
  {
   "cell_type": "code",
   "execution_count": 37,
   "metadata": {
    "collapsed": true
   },
   "outputs": [],
   "source": [
    "all_preds = []\n",
    "dy.renew_cg()\n",
    "for doc in test_docs:\n",
    "    idxs = words2indexes(doc, w2i)\n",
    "    ave_embedding = get_average_embedding(idxs)\n",
    "    pred = forward_pass(ave_embedding)\n",
    "    all_preds.append(pred.value())\n",
    "original_preds = all_preds"
   ]
  },
  {
   "cell_type": "markdown",
   "metadata": {},
   "source": [
    "You'll notice that the output is pretty much the same for *all* documents.  Not suprising since the model only saw each document only once."
   ]
  },
  {
   "cell_type": "code",
   "execution_count": 38,
   "metadata": {},
   "outputs": [
    {
     "name": "stdout",
     "output_type": "stream",
     "text": [
      "[0.9994034171104431, 0.9993950724601746, 0.9994257092475891, 0.9993324875831604, 0.9993460774421692, 0.9992807507514954, 0.9992631673812866, 0.9994104504585266, 0.9992952942848206, 0.9993500709533691, 0.9993181824684143, 0.9993802309036255, 0.999201238155365, 0.9994553327560425, 0.9992917776107788, 0.9993206262588501, 0.9993990659713745, 0.9994218349456787, 0.9993622303009033, 0.9993591904640198, 0.9992297291755676, 0.9993546009063721, 0.9993452429771423, 0.9992887377738953, 0.9993416666984558, 0.9992390275001526, 0.9991928339004517, 0.9993562698364258, 0.9994158744812012, 0.9994326829910278, 0.9994310736656189, 0.9993804097175598, 0.9993774890899658, 0.9992112517356873, 0.9992589950561523, 0.9992702007293701, 0.9994185566902161, 0.9993841052055359, 0.9992297291755676, 0.9993551969528198, 0.9993306994438171, 0.9992659687995911, 0.9991027116775513, 0.9993909001350403, 0.9993570446968079, 0.9993858933448792, 0.9993821978569031, 0.9993992447853088, 0.9992924332618713, 0.9993616938591003, 0.9992297291755676, 0.999360203742981, 0.9993771910667419, 0.9993900656700134, 0.999366044998169, 0.999379575252533, 0.9994099140167236, 0.9992713332176208, 0.999321699142456, 0.999295711517334, 0.9993577599525452, 0.999371349811554, 0.999321699142456, 0.999419629573822, 0.9992209076881409, 0.9993831515312195, 0.9993353486061096, 0.9993095397949219, 0.9994022846221924, 0.9993449449539185, 0.9993582367897034, 0.9993351697921753, 0.999370276927948, 0.9992733001708984, 0.9994516968727112, 0.9993941783905029, 0.999440610408783, 0.9993308186531067, 0.9994010329246521, 0.9993051290512085, 0.9993780851364136, 0.9993009567260742, 0.9993619322776794, 0.9992950558662415, 0.9994913339614868, 0.9993759393692017, 0.9992987513542175, 0.9993798732757568, 0.9994028210639954, 0.9994239807128906, 0.9994478225708008, 0.9993392825126648, 0.9993351697921753, 0.9993961453437805, 0.999293863773346, 0.9993827939033508, 0.9993962645530701, 0.9994204044342041, 0.9994342923164368, 0.9993777275085449]\n"
     ]
    }
   ],
   "source": [
    "print(original_preds[0:100])"
   ]
  },
  {
   "cell_type": "code",
   "execution_count": 39,
   "metadata": {
    "collapsed": true
   },
   "outputs": [],
   "source": [
    "def check_score(pred, true_y):\n",
    "    # convert pred to hard label\n",
    "    label = 1 if pred >= 0.5 else 0\n",
    "    # compare to true_y\n",
    "    return 1 if label == true_y else 0"
   ]
  },
  {
   "cell_type": "code",
   "execution_count": 40,
   "metadata": {
    "collapsed": true
   },
   "outputs": [],
   "source": [
    "def get_accuracy(list_of_scores):\n",
    "    return float(sum(list_of_scores) / len(list_of_scores))"
   ]
  },
  {
   "cell_type": "markdown",
   "metadata": {},
   "source": [
    "And since we predicted the same label for all documents, then our accuracy is simply matching the distribution of the data."
   ]
  },
  {
   "cell_type": "code",
   "execution_count": 41,
   "metadata": {},
   "outputs": [
    {
     "data": {
      "text/plain": [
       "0.13016157989228008"
      ]
     },
     "execution_count": 41,
     "metadata": {},
     "output_type": "execute_result"
    }
   ],
   "source": [
    "accuracy = get_accuracy([check_score(p, y) for p,y in zip(all_preds, test_labels)])\n",
    "accuracy"
   ]
  },
  {
   "cell_type": "markdown",
   "metadata": {},
   "source": [
    "### multiple epochs and minibatches"
   ]
  },
  {
   "cell_type": "markdown",
   "metadata": {},
   "source": [
    "We need to run the model through the data many, many more times before it can learn anything meaningful.  \n",
    "\n",
    "So we need to decide (1) how many `epochs` (times through the data), and (2) how many datapoints we want to show the model at once.  If `batch_size=len(data)` then we show the model *all* the data to the model at one time (and only one parameter update is made).  If `batch_size=1` then we only show the model one item at a time."
   ]
  },
  {
   "cell_type": "code",
   "execution_count": 42,
   "metadata": {},
   "outputs": [
    {
     "data": {
      "text/plain": [
       "27"
      ]
     },
     "execution_count": 42,
     "metadata": {},
     "output_type": "execute_result"
    }
   ],
   "source": [
    "################\n",
    "# HYPERPARAMETER\n",
    "################\n",
    "num_epochs = 100\n",
    "################\n",
    "# HYPERPARAMETER\n",
    "################\n",
    "batch_size = 128\n",
    "################\n",
    "# HYPERPARAMETER\n",
    "################\n",
    "num_batches = int(np.ceil(len(train_docs) / batch_size))\n",
    "num_batches"
   ]
  },
  {
   "cell_type": "code",
   "execution_count": 43,
   "metadata": {
    "collapsed": true
   },
   "outputs": [],
   "source": [
    "# bookeeping\n",
    "original_W1 = dy.parameter(pW_1).npvalue()\n",
    "epoch_losses = []\n",
    "all_accuracies = []"
   ]
  },
  {
   "cell_type": "markdown",
   "metadata": {},
   "source": [
    "Below is code for iterating through multiple `epoch`s of the data."
   ]
  },
  {
   "cell_type": "code",
   "execution_count": 44,
   "metadata": {},
   "outputs": [
    {
     "name": "stdout",
     "output_type": "stream",
     "text": [
      "epoch 1\n",
      "epoch 11\n",
      "epoch 21\n",
      "epoch 31\n",
      "epoch 41\n",
      "epoch 51\n",
      "epoch 61\n",
      "epoch 71\n",
      "epoch 81\n",
      "epoch 91\n",
      "change in W_1 parameter values: -7.790721409750404\n"
     ]
    }
   ],
   "source": [
    "# iterate through epochs\n",
    "for i in range(num_epochs):\n",
    "    epoch_loss = []\n",
    "    if i % 10 == 0:\n",
    "        print(\"epoch {}\".format(i+1))\n",
    "    # shuffle dataset\n",
    "    zipped = list(zip(train_docs, train_labels))\n",
    "    random.shuffle(zipped)\n",
    "    docs, labels = zip(*zipped)\n",
    "    # iterate through batches\n",
    "    for j in range(num_batches):\n",
    "        # begin a clean computational graph *at beginning of each batch*\n",
    "        dy.renew_cg()\n",
    "        losses = []\n",
    "        # build the batch\n",
    "        batchX = train_docs[j*batch_size:(j+1)*batch_size]\n",
    "        batchY = train_labels[j*batch_size:(j+1)*batch_size]\n",
    "        # iterate through the batch\n",
    "        for k in range(len(batchX)):\n",
    "            # prepare input\n",
    "            x = words2indexes(batchX[k], w2i)\n",
    "            x = get_average_embedding(x)\n",
    "            # prepare output\n",
    "            y = dy.scalarInput(batchY[k])\n",
    "            # make a forward pass\n",
    "            pred = forward_pass(x)\n",
    "            # calculate loss for each example\n",
    "            loss = dy.binary_log_loss(pred, y)  \n",
    "            losses.append(loss)\n",
    "        # get total loss for batch\n",
    "        total_loss = dy.esum(losses)\n",
    "        # applies the calculations of the computational graph\n",
    "        total_loss.forward()\n",
    "        # calculates loss to backpropogate\n",
    "        total_loss.backward()\n",
    "        # update parameters with backpropogated error\n",
    "        trainer.update()\n",
    "        # record batch loss\n",
    "        epoch_loss.append(total_loss.npvalue())\n",
    "    # record epoch loss\n",
    "    epoch_losses.append(np.sum(epoch_loss))\n",
    "    # check performance on test set\n",
    "    all_preds = []\n",
    "    dy.renew_cg()\n",
    "    for i in range(len(test_docs)):\n",
    "        x = words2indexes(test_docs[i], w2i)\n",
    "        x = get_average_embedding(x)\n",
    "        pred = forward_pass(x)\n",
    "        all_preds.append(pred.value())\n",
    "    accuracy = get_accuracy([check_score(p, y) for p,y in zip(all_preds, list(test_labels))])\n",
    "    all_accuracies.append(accuracy)\n",
    "# confirm that parameters updated\n",
    "dy.renew_cg()\n",
    "print(\"change in W_1 parameter values: {}\".format(\n",
    "    np.sum(original_W1 - dy.parameter(pW_1).npvalue())\n",
    "))"
   ]
  },
  {
   "cell_type": "markdown",
   "metadata": {},
   "source": [
    "### visualize loss and accuracy"
   ]
  },
  {
   "cell_type": "code",
   "execution_count": 45,
   "metadata": {},
   "outputs": [
    {
     "data": {
      "image/png": "[encoded data removed]",
      "text/plain": [
       "<matplotlib.figure.Figure at 0x195712f98>"
      ]
     },
     "metadata": {},
     "output_type": "display_data"
    }
   ],
   "source": [
    "import matplotlib.pyplot as plt\n",
    "plt.plot(epoch_losses)\n",
    "plt.show()"
   ]
  },
  {
   "cell_type": "code",
   "execution_count": 46,
   "metadata": {},
   "outputs": [
    {
     "data": {
      "image/png": "[encoded data removed]",
      "text/plain": [
       "<matplotlib.figure.Figure at 0x195202b38>"
      ]
     },
     "metadata": {},
     "output_type": "display_data"
    }
   ],
   "source": [
    "plt.plot(all_accuracies)\n",
    "plt.show()"
   ]
  },
  {
   "cell_type": "markdown",
   "metadata": {},
   "source": [
    "### testing"
   ]
  },
  {
   "cell_type": "code",
   "execution_count": 47,
   "metadata": {
    "collapsed": true
   },
   "outputs": [],
   "source": [
    "all_preds = []\n",
    "dy.renew_cg()\n",
    "for doc in test_docs:\n",
    "    idxs = words2indexes(doc, w2i)\n",
    "    ave_embedding = get_average_embedding(idxs)\n",
    "    pred = forward_pass(ave_embedding)\n",
    "    all_preds.append(pred.value())"
   ]
  },
  {
   "cell_type": "markdown",
   "metadata": {},
   "source": [
    "Not surpisingly, the model now learns how to distinguish different documents, and so the predictions range all over."
   ]
  },
  {
   "cell_type": "code",
   "execution_count": 48,
   "metadata": {},
   "outputs": [
    {
     "name": "stdout",
     "output_type": "stream",
     "text": [
      "[0.6556558012962341, 0.00034403815516270697, 0.0006847633048892021, 0.00019579731451813132, 3.148395262542181e-05, 0.031864333897829056, 0.0002002134278882295, 7.159064261941239e-05, 0.0004632560012396425, 0.003368380945175886, 0.007158327382057905, 0.0035529446322470903, 0.00345473806373775, 0.9214901328086853, 0.002123923972249031, 0.007543424144387245, 0.0007220315746963024, 0.0031344410963356495, 0.9585365056991577, 2.2997510029654222e-07, 0.02617676556110382, 0.2993135452270508, 0.15958604216575623, 0.0015080824960023165, 0.0030091917142271996, 0.0005681368638761342, 0.0022377369459718466, 0.003977429121732712, 0.7797579169273376, 0.027505356818437576, 0.5282421708106995, 0.004104707855731249, 0.001457302481867373, 0.021853499114513397, 0.008700339123606682, 3.195796671207063e-05, 0.321938693523407, 0.00033812865149229765, 0.02617678977549076, 0.996843695640564, 0.5036551356315613, 0.006232960149645805, 0.0009685894474387169, 0.02478676475584507, 0.037448275834321976, 0.0002730213454924524, 0.9524284601211548, 0.0010298618581146002, 0.0011469322489574552, 0.021607190370559692, 0.02617678977549076, 0.006810491904616356, 6.242559175007045e-05, 0.00033020906266756356, 0.00026264568441547453, 0.0056915548630058765, 1.4754353287571575e-05, 0.6851378083229065, 0.010930979624390602, 0.0001253040536539629, 0.0008816872141323984, 0.00025301449932157993, 0.0014720619656145573, 0.0023682184983044863, 4.985481041330786e-07, 2.743359982559923e-05, 8.198989235097542e-05, 0.02882349118590355, 6.595665763597935e-05, 0.01897953264415264, 0.001139189349487424, 0.00042037139064632356, 0.00014400547661352903, 0.000687375373672694, 0.999561071395874, 0.0016072830185294151, 2.3949578462634236e-05, 0.003041742602363229, 0.08091346174478531, 0.004385088104754686, 0.0001458706392440945, 0.3884558081626892, 0.004574337508529425, 0.2974487543106079, 0.00834222137928009, 0.011328356340527534, 0.00014708339585922658, 0.11600127071142197, 0.0850827693939209, 0.004345520865172148, 0.002158880000934005, 0.0016637808876112103, 0.12352844327688217, 0.0049223517999053, 0.0035600215196609497, 0.009751498699188232, 0.008749638684093952, 0.5915105938911438, 6.546894155690097e-07, 0.0003805446031037718]\n"
     ]
    }
   ],
   "source": [
    "print(all_preds[:100])"
   ]
  },
  {
   "cell_type": "markdown",
   "metadata": {},
   "source": [
    "And our accuracy is fantastic!"
   ]
  },
  {
   "cell_type": "code",
   "execution_count": 49,
   "metadata": {},
   "outputs": [
    {
     "data": {
      "text/plain": [
       "0.9515260323159784"
      ]
     },
     "execution_count": 49,
     "metadata": {},
     "output_type": "execute_result"
    }
   ],
   "source": [
    "accuracy = get_accuracy([check_score(p, y) for p,y in zip(all_preds, list(test_labels))])\n",
    "accuracy"
   ]
  }
 ],
 "metadata": {
  "kernelspec": {
   "display_name": "Python 3",
   "language": "python",
   "name": "python3"
  },
  "language_info": {
   "codemirror_mode": {
    "name": "ipython",
    "version": 3
   },
   "file_extension": ".py",
   "mimetype": "text/x-python",
   "name": "python",
   "nbconvert_exporter": "python",
   "pygments_lexer": "ipython3",
   "version": "3.6.2"
  },
  "widgets": {
   "application/vnd.jupyter.widget-state+json": {
    "state": {},
    "version_major": 1,
    "version_minor": 0
   }
  }
 },
 "nbformat": 4,
 "nbformat_minor": 2
}
